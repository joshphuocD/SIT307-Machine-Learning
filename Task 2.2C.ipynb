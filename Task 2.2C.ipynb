{
 "cells": [
  {
   "cell_type": "code",
   "execution_count": 306,
   "id": "f6c8daf0",
   "metadata": {},
   "outputs": [],
   "source": [
    "import numpy as np\n",
    "import pandas as pd\n",
    "import matplotlib.pyplot as plt\n",
    "import seaborn as sns\n",
    "import warnings; warnings.simplefilter('ignore')"
   ]
  },
  {
   "cell_type": "markdown",
   "id": "02e06927",
   "metadata": {},
   "source": [
    "* **1. Load the data from supplied data file. Print the data dimension.**"
   ]
  },
  {
   "cell_type": "code",
   "execution_count": 307,
   "id": "bb7be5b3",
   "metadata": {},
   "outputs": [],
   "source": [
    "df = pd.read_csv('development-activity-monitor.csv')"
   ]
  },
  {
   "cell_type": "code",
   "execution_count": 308,
   "id": "16e2b511",
   "metadata": {},
   "outputs": [
    {
     "data": {
      "text/html": [
       "<div>\n",
       "<style scoped>\n",
       "    .dataframe tbody tr th:only-of-type {\n",
       "        vertical-align: middle;\n",
       "    }\n",
       "\n",
       "    .dataframe tbody tr th {\n",
       "        vertical-align: top;\n",
       "    }\n",
       "\n",
       "    .dataframe thead th {\n",
       "        text-align: right;\n",
       "    }\n",
       "</style>\n",
       "<table border=\"1\" class=\"dataframe\">\n",
       "  <thead>\n",
       "    <tr style=\"text-align: right;\">\n",
       "      <th></th>\n",
       "      <th>data_format</th>\n",
       "      <th>development_key</th>\n",
       "      <th>status</th>\n",
       "      <th>year_completed</th>\n",
       "      <th>clue_small_area</th>\n",
       "      <th>clue_block</th>\n",
       "      <th>street_address</th>\n",
       "      <th>property_id</th>\n",
       "      <th>property_id_2</th>\n",
       "      <th>property_id_3</th>\n",
       "      <th>...</th>\n",
       "      <th>hospital_flr</th>\n",
       "      <th>recreation_flr</th>\n",
       "      <th>publicdispaly_flr</th>\n",
       "      <th>community_flr</th>\n",
       "      <th>car_spaces</th>\n",
       "      <th>bike_spaces</th>\n",
       "      <th>town_planning_application</th>\n",
       "      <th>longitude</th>\n",
       "      <th>latitude</th>\n",
       "      <th>geopoint</th>\n",
       "    </tr>\n",
       "  </thead>\n",
       "  <tbody>\n",
       "    <tr>\n",
       "      <th>0</th>\n",
       "      <td>Pre May 16</td>\n",
       "      <td>X000479</td>\n",
       "      <td>COMPLETED</td>\n",
       "      <td>2006.0</td>\n",
       "      <td>North Melbourne</td>\n",
       "      <td>342</td>\n",
       "      <td>191-201 Abbotsford Street NORTH MELBOURNE VIC ...</td>\n",
       "      <td>100023</td>\n",
       "      <td>NaN</td>\n",
       "      <td>NaN</td>\n",
       "      <td>...</td>\n",
       "      <td>0</td>\n",
       "      <td>0</td>\n",
       "      <td>0</td>\n",
       "      <td>0</td>\n",
       "      <td>0</td>\n",
       "      <td>0</td>\n",
       "      <td>0</td>\n",
       "      <td>144.945030</td>\n",
       "      <td>-37.802822</td>\n",
       "      <td>-37.80282184, 144.9450298</td>\n",
       "    </tr>\n",
       "    <tr>\n",
       "      <th>1</th>\n",
       "      <td>Pre May 16</td>\n",
       "      <td>X000459</td>\n",
       "      <td>COMPLETED</td>\n",
       "      <td>2005.0</td>\n",
       "      <td>North Melbourne</td>\n",
       "      <td>333</td>\n",
       "      <td>218-224 Abbotsford Street NORTH MELBOURNE VIC ...</td>\n",
       "      <td>100119</td>\n",
       "      <td>NaN</td>\n",
       "      <td>NaN</td>\n",
       "      <td>...</td>\n",
       "      <td>0</td>\n",
       "      <td>0</td>\n",
       "      <td>0</td>\n",
       "      <td>0</td>\n",
       "      <td>0</td>\n",
       "      <td>0</td>\n",
       "      <td>0</td>\n",
       "      <td>144.945947</td>\n",
       "      <td>-37.802049</td>\n",
       "      <td>-37.80204879, 144.9459475</td>\n",
       "    </tr>\n",
       "    <tr>\n",
       "      <th>2</th>\n",
       "      <td>Pre May 16</td>\n",
       "      <td>X000573</td>\n",
       "      <td>COMPLETED</td>\n",
       "      <td>2013.0</td>\n",
       "      <td>West Melbourne (Residential)</td>\n",
       "      <td>414</td>\n",
       "      <td>56-62 Abbotsford Street WEST MELBOURNE VIC 3003</td>\n",
       "      <td>100144</td>\n",
       "      <td>NaN</td>\n",
       "      <td>NaN</td>\n",
       "      <td>...</td>\n",
       "      <td>0</td>\n",
       "      <td>0</td>\n",
       "      <td>0</td>\n",
       "      <td>0</td>\n",
       "      <td>0</td>\n",
       "      <td>0</td>\n",
       "      <td>0</td>\n",
       "      <td>144.944719</td>\n",
       "      <td>-37.806791</td>\n",
       "      <td>-37.80679128, 144.9447186</td>\n",
       "    </tr>\n",
       "    <tr>\n",
       "      <th>3</th>\n",
       "      <td>Pre May 16</td>\n",
       "      <td>X000563</td>\n",
       "      <td>COMPLETED</td>\n",
       "      <td>2014.0</td>\n",
       "      <td>West Melbourne (Residential)</td>\n",
       "      <td>409</td>\n",
       "      <td>1-9 Stawell Street WEST MELBOURNE VIC 3003</td>\n",
       "      <td>100441</td>\n",
       "      <td>NaN</td>\n",
       "      <td>NaN</td>\n",
       "      <td>...</td>\n",
       "      <td>0</td>\n",
       "      <td>0</td>\n",
       "      <td>0</td>\n",
       "      <td>0</td>\n",
       "      <td>0</td>\n",
       "      <td>28</td>\n",
       "      <td>0</td>\n",
       "      <td>144.942096</td>\n",
       "      <td>-37.806072</td>\n",
       "      <td>-37.80607242, 144.9420962</td>\n",
       "    </tr>\n",
       "    <tr>\n",
       "      <th>4</th>\n",
       "      <td>Pre May 16</td>\n",
       "      <td>X000997</td>\n",
       "      <td>COMPLETED</td>\n",
       "      <td>2007.0</td>\n",
       "      <td>North Melbourne</td>\n",
       "      <td>1012</td>\n",
       "      <td>229-235 Arden Street NORTH MELBOURNE VIC 3051</td>\n",
       "      <td>100556</td>\n",
       "      <td>NaN</td>\n",
       "      <td>NaN</td>\n",
       "      <td>...</td>\n",
       "      <td>0</td>\n",
       "      <td>0</td>\n",
       "      <td>0</td>\n",
       "      <td>0</td>\n",
       "      <td>0</td>\n",
       "      <td>0</td>\n",
       "      <td>0</td>\n",
       "      <td>144.939286</td>\n",
       "      <td>-37.800374</td>\n",
       "      <td>-37.80037382, 144.9392856</td>\n",
       "    </tr>\n",
       "  </tbody>\n",
       "</table>\n",
       "<p>5 rows × 42 columns</p>\n",
       "</div>"
      ],
      "text/plain": [
       "  data_format development_key     status  year_completed  \\\n",
       "0  Pre May 16         X000479  COMPLETED          2006.0   \n",
       "1  Pre May 16         X000459  COMPLETED          2005.0   \n",
       "2  Pre May 16         X000573  COMPLETED          2013.0   \n",
       "3  Pre May 16         X000563  COMPLETED          2014.0   \n",
       "4  Pre May 16         X000997  COMPLETED          2007.0   \n",
       "\n",
       "                clue_small_area  clue_block  \\\n",
       "0               North Melbourne         342   \n",
       "1               North Melbourne         333   \n",
       "2  West Melbourne (Residential)         414   \n",
       "3  West Melbourne (Residential)         409   \n",
       "4               North Melbourne        1012   \n",
       "\n",
       "                                      street_address  property_id  \\\n",
       "0  191-201 Abbotsford Street NORTH MELBOURNE VIC ...       100023   \n",
       "1  218-224 Abbotsford Street NORTH MELBOURNE VIC ...       100119   \n",
       "2    56-62 Abbotsford Street WEST MELBOURNE VIC 3003       100144   \n",
       "3         1-9 Stawell Street WEST MELBOURNE VIC 3003       100441   \n",
       "4      229-235 Arden Street NORTH MELBOURNE VIC 3051       100556   \n",
       "\n",
       "   property_id_2  property_id_3  ...  hospital_flr  recreation_flr  \\\n",
       "0            NaN            NaN  ...             0               0   \n",
       "1            NaN            NaN  ...             0               0   \n",
       "2            NaN            NaN  ...             0               0   \n",
       "3            NaN            NaN  ...             0               0   \n",
       "4            NaN            NaN  ...             0               0   \n",
       "\n",
       "   publicdispaly_flr  community_flr  car_spaces  bike_spaces  \\\n",
       "0                  0              0           0            0   \n",
       "1                  0              0           0            0   \n",
       "2                  0              0           0            0   \n",
       "3                  0              0           0           28   \n",
       "4                  0              0           0            0   \n",
       "\n",
       "   town_planning_application   longitude   latitude                   geopoint  \n",
       "0                          0  144.945030 -37.802822  -37.80282184, 144.9450298  \n",
       "1                          0  144.945947 -37.802049  -37.80204879, 144.9459475  \n",
       "2                          0  144.944719 -37.806791  -37.80679128, 144.9447186  \n",
       "3                          0  144.942096 -37.806072  -37.80607242, 144.9420962  \n",
       "4                          0  144.939286 -37.800374  -37.80037382, 144.9392856  \n",
       "\n",
       "[5 rows x 42 columns]"
      ]
     },
     "execution_count": 308,
     "metadata": {},
     "output_type": "execute_result"
    }
   ],
   "source": [
    "df.head()"
   ]
  },
  {
   "cell_type": "code",
   "execution_count": 309,
   "id": "a2896ead",
   "metadata": {},
   "outputs": [
    {
     "data": {
      "text/plain": [
       "(1424, 42)"
      ]
     },
     "execution_count": 309,
     "metadata": {},
     "output_type": "execute_result"
    }
   ],
   "source": [
    "df.shape"
   ]
  },
  {
   "cell_type": "markdown",
   "id": "9cee5cf9",
   "metadata": {},
   "source": [
    "* **2.Display the data type of all features. If the data type is\n",
    "integer, print the median values of the features.**"
   ]
  },
  {
   "cell_type": "code",
   "execution_count": 310,
   "id": "9c693bd9",
   "metadata": {},
   "outputs": [
    {
     "name": "stdout",
     "output_type": "stream",
     "text": [
      "<class 'pandas.core.frame.DataFrame'>\n",
      "RangeIndex: 1424 entries, 0 to 1423\n",
      "Data columns (total 42 columns):\n",
      " #   Column                       Non-Null Count  Dtype  \n",
      "---  ------                       --------------  -----  \n",
      " 0   data_format                  1424 non-null   object \n",
      " 1   development_key              1424 non-null   object \n",
      " 2   status                       1424 non-null   object \n",
      " 3   year_completed               993 non-null    float64\n",
      " 4   clue_small_area              1424 non-null   object \n",
      " 5   clue_block                   1424 non-null   int64  \n",
      " 6   street_address               1424 non-null   object \n",
      " 7   property_id                  1424 non-null   int64  \n",
      " 8   property_id_2                175 non-null    float64\n",
      " 9   property_id_3                41 non-null     float64\n",
      " 10  property_id_4                14 non-null     float64\n",
      " 11  property_id_5                3 non-null      float64\n",
      " 12  floors_above                 1424 non-null   int64  \n",
      " 13  resi_dwellings               1424 non-null   int64  \n",
      " 14  studio_dwe                   1424 non-null   int64  \n",
      " 15  one_bdrm_dwe                 1424 non-null   int64  \n",
      " 16  two_bdrm_dwe                 1424 non-null   int64  \n",
      " 17  three_bdrm_dwe               1424 non-null   int64  \n",
      " 18  student_apartments           1424 non-null   int64  \n",
      " 19  student_beds                 1424 non-null   int64  \n",
      " 20  student_accommodation_units  1424 non-null   int64  \n",
      " 21  institutional_accom_beds     1424 non-null   int64  \n",
      " 22  hotel_rooms                  1424 non-null   int64  \n",
      " 23  serviced_apartments          1424 non-null   int64  \n",
      " 24  hotels_serviced_apartments   1424 non-null   int64  \n",
      " 25  hostel_beds                  1424 non-null   int64  \n",
      " 26  childcare_places             1424 non-null   int64  \n",
      " 27  office_flr                   1424 non-null   int64  \n",
      " 28  retail_flr                   1424 non-null   int64  \n",
      " 29  industrial_flr               1424 non-null   int64  \n",
      " 30  storage_flr                  1424 non-null   int64  \n",
      " 31  education_flr                1424 non-null   int64  \n",
      " 32  hospital_flr                 1424 non-null   int64  \n",
      " 33  recreation_flr               1424 non-null   int64  \n",
      " 34  publicdispaly_flr            1424 non-null   int64  \n",
      " 35  community_flr                1424 non-null   int64  \n",
      " 36  car_spaces                   1424 non-null   int64  \n",
      " 37  bike_spaces                  1424 non-null   int64  \n",
      " 38  town_planning_application    1424 non-null   object \n",
      " 39  longitude                    1424 non-null   float64\n",
      " 40  latitude                     1424 non-null   float64\n",
      " 41  geopoint                     1424 non-null   object \n",
      "dtypes: float64(7), int64(28), object(7)\n",
      "memory usage: 467.4+ KB\n"
     ]
    }
   ],
   "source": [
    "df.info()"
   ]
  },
  {
   "cell_type": "code",
   "execution_count": 311,
   "id": "23d73855",
   "metadata": {},
   "outputs": [
    {
     "data": {
      "text/html": [
       "<div>\n",
       "<style scoped>\n",
       "    .dataframe tbody tr th:only-of-type {\n",
       "        vertical-align: middle;\n",
       "    }\n",
       "\n",
       "    .dataframe tbody tr th {\n",
       "        vertical-align: top;\n",
       "    }\n",
       "\n",
       "    .dataframe thead th {\n",
       "        text-align: right;\n",
       "    }\n",
       "</style>\n",
       "<table border=\"1\" class=\"dataframe\">\n",
       "  <thead>\n",
       "    <tr style=\"text-align: right;\">\n",
       "      <th></th>\n",
       "      <th>year_completed</th>\n",
       "      <th>clue_block</th>\n",
       "      <th>property_id</th>\n",
       "      <th>property_id_2</th>\n",
       "      <th>property_id_3</th>\n",
       "      <th>property_id_4</th>\n",
       "      <th>property_id_5</th>\n",
       "      <th>floors_above</th>\n",
       "      <th>resi_dwellings</th>\n",
       "      <th>studio_dwe</th>\n",
       "      <th>...</th>\n",
       "      <th>storage_flr</th>\n",
       "      <th>education_flr</th>\n",
       "      <th>hospital_flr</th>\n",
       "      <th>recreation_flr</th>\n",
       "      <th>publicdispaly_flr</th>\n",
       "      <th>community_flr</th>\n",
       "      <th>car_spaces</th>\n",
       "      <th>bike_spaces</th>\n",
       "      <th>longitude</th>\n",
       "      <th>latitude</th>\n",
       "    </tr>\n",
       "  </thead>\n",
       "  <tbody>\n",
       "    <tr>\n",
       "      <th>count</th>\n",
       "      <td>993.000000</td>\n",
       "      <td>1424.000000</td>\n",
       "      <td>1424.000000</td>\n",
       "      <td>175.00000</td>\n",
       "      <td>41.000000</td>\n",
       "      <td>14.000000</td>\n",
       "      <td>3.000000</td>\n",
       "      <td>1424.000000</td>\n",
       "      <td>1424.000000</td>\n",
       "      <td>1424.000000</td>\n",
       "      <td>...</td>\n",
       "      <td>1424.000000</td>\n",
       "      <td>1424.000000</td>\n",
       "      <td>1424.000000</td>\n",
       "      <td>1424.000000</td>\n",
       "      <td>1424.000000</td>\n",
       "      <td>1424.000000</td>\n",
       "      <td>1424.000000</td>\n",
       "      <td>1424.000000</td>\n",
       "      <td>1424.000000</td>\n",
       "      <td>1424.000000</td>\n",
       "    </tr>\n",
       "    <tr>\n",
       "      <th>mean</th>\n",
       "      <td>2012.117825</td>\n",
       "      <td>550.268961</td>\n",
       "      <td>267286.594101</td>\n",
       "      <td>225839.04000</td>\n",
       "      <td>245234.414634</td>\n",
       "      <td>331655.785714</td>\n",
       "      <td>434196.000000</td>\n",
       "      <td>14.198034</td>\n",
       "      <td>80.474719</td>\n",
       "      <td>1.141854</td>\n",
       "      <td>...</td>\n",
       "      <td>68.306180</td>\n",
       "      <td>254.655197</td>\n",
       "      <td>177.306180</td>\n",
       "      <td>123.966292</td>\n",
       "      <td>16.940309</td>\n",
       "      <td>21.820927</td>\n",
       "      <td>49.980337</td>\n",
       "      <td>50.806882</td>\n",
       "      <td>144.952388</td>\n",
       "      <td>-37.810838</td>\n",
       "    </tr>\n",
       "    <tr>\n",
       "      <th>std</th>\n",
       "      <td>5.548468</td>\n",
       "      <td>494.443522</td>\n",
       "      <td>236594.450114</td>\n",
       "      <td>217991.17628</td>\n",
       "      <td>235687.819633</td>\n",
       "      <td>273376.949289</td>\n",
       "      <td>284763.009171</td>\n",
       "      <td>16.173996</td>\n",
       "      <td>158.418894</td>\n",
       "      <td>10.138027</td>\n",
       "      <td>...</td>\n",
       "      <td>717.009164</td>\n",
       "      <td>2186.407603</td>\n",
       "      <td>3697.041259</td>\n",
       "      <td>1695.990911</td>\n",
       "      <td>435.386178</td>\n",
       "      <td>241.116726</td>\n",
       "      <td>116.956267</td>\n",
       "      <td>138.716600</td>\n",
       "      <td>0.015907</td>\n",
       "      <td>0.012134</td>\n",
       "    </tr>\n",
       "    <tr>\n",
       "      <th>min</th>\n",
       "      <td>2002.000000</td>\n",
       "      <td>1.000000</td>\n",
       "      <td>100001.000000</td>\n",
       "      <td>100046.00000</td>\n",
       "      <td>100047.000000</td>\n",
       "      <td>100045.000000</td>\n",
       "      <td>105380.000000</td>\n",
       "      <td>0.000000</td>\n",
       "      <td>0.000000</td>\n",
       "      <td>0.000000</td>\n",
       "      <td>...</td>\n",
       "      <td>0.000000</td>\n",
       "      <td>0.000000</td>\n",
       "      <td>0.000000</td>\n",
       "      <td>0.000000</td>\n",
       "      <td>0.000000</td>\n",
       "      <td>0.000000</td>\n",
       "      <td>0.000000</td>\n",
       "      <td>0.000000</td>\n",
       "      <td>144.901272</td>\n",
       "      <td>-37.849229</td>\n",
       "    </tr>\n",
       "    <tr>\n",
       "      <th>25%</th>\n",
       "      <td>2008.000000</td>\n",
       "      <td>131.000000</td>\n",
       "      <td>104688.750000</td>\n",
       "      <td>105230.00000</td>\n",
       "      <td>104094.000000</td>\n",
       "      <td>105381.500000</td>\n",
       "      <td>351992.000000</td>\n",
       "      <td>3.000000</td>\n",
       "      <td>0.000000</td>\n",
       "      <td>0.000000</td>\n",
       "      <td>...</td>\n",
       "      <td>0.000000</td>\n",
       "      <td>0.000000</td>\n",
       "      <td>0.000000</td>\n",
       "      <td>0.000000</td>\n",
       "      <td>0.000000</td>\n",
       "      <td>0.000000</td>\n",
       "      <td>0.000000</td>\n",
       "      <td>0.000000</td>\n",
       "      <td>144.942133</td>\n",
       "      <td>-37.820255</td>\n",
       "    </tr>\n",
       "    <tr>\n",
       "      <th>50%</th>\n",
       "      <td>2012.000000</td>\n",
       "      <td>432.000000</td>\n",
       "      <td>109147.000000</td>\n",
       "      <td>108089.00000</td>\n",
       "      <td>105382.000000</td>\n",
       "      <td>108378.000000</td>\n",
       "      <td>598604.000000</td>\n",
       "      <td>8.000000</td>\n",
       "      <td>4.000000</td>\n",
       "      <td>0.000000</td>\n",
       "      <td>...</td>\n",
       "      <td>0.000000</td>\n",
       "      <td>0.000000</td>\n",
       "      <td>0.000000</td>\n",
       "      <td>0.000000</td>\n",
       "      <td>0.000000</td>\n",
       "      <td>0.000000</td>\n",
       "      <td>0.000000</td>\n",
       "      <td>0.000000</td>\n",
       "      <td>144.954475</td>\n",
       "      <td>-37.811183</td>\n",
       "    </tr>\n",
       "    <tr>\n",
       "      <th>75%</th>\n",
       "      <td>2017.000000</td>\n",
       "      <td>790.000000</td>\n",
       "      <td>588807.000000</td>\n",
       "      <td>110599.50000</td>\n",
       "      <td>604698.000000</td>\n",
       "      <td>598603.000000</td>\n",
       "      <td>598604.000000</td>\n",
       "      <td>20.000000</td>\n",
       "      <td>85.000000</td>\n",
       "      <td>0.000000</td>\n",
       "      <td>...</td>\n",
       "      <td>0.000000</td>\n",
       "      <td>0.000000</td>\n",
       "      <td>0.000000</td>\n",
       "      <td>0.000000</td>\n",
       "      <td>0.000000</td>\n",
       "      <td>0.000000</td>\n",
       "      <td>41.250000</td>\n",
       "      <td>32.000000</td>\n",
       "      <td>144.962947</td>\n",
       "      <td>-37.802573</td>\n",
       "    </tr>\n",
       "    <tr>\n",
       "      <th>max</th>\n",
       "      <td>2022.000000</td>\n",
       "      <td>2547.000000</td>\n",
       "      <td>723542.000000</td>\n",
       "      <td>723543.00000</td>\n",
       "      <td>679272.000000</td>\n",
       "      <td>679273.000000</td>\n",
       "      <td>598604.000000</td>\n",
       "      <td>102.000000</td>\n",
       "      <td>1139.000000</td>\n",
       "      <td>181.000000</td>\n",
       "      <td>...</td>\n",
       "      <td>14000.000000</td>\n",
       "      <td>40832.000000</td>\n",
       "      <td>100000.000000</td>\n",
       "      <td>58935.000000</td>\n",
       "      <td>16073.000000</td>\n",
       "      <td>5332.000000</td>\n",
       "      <td>1275.000000</td>\n",
       "      <td>2429.000000</td>\n",
       "      <td>144.990561</td>\n",
       "      <td>-37.776195</td>\n",
       "    </tr>\n",
       "  </tbody>\n",
       "</table>\n",
       "<p>8 rows × 35 columns</p>\n",
       "</div>"
      ],
      "text/plain": [
       "       year_completed   clue_block    property_id  property_id_2  \\\n",
       "count      993.000000  1424.000000    1424.000000      175.00000   \n",
       "mean      2012.117825   550.268961  267286.594101   225839.04000   \n",
       "std          5.548468   494.443522  236594.450114   217991.17628   \n",
       "min       2002.000000     1.000000  100001.000000   100046.00000   \n",
       "25%       2008.000000   131.000000  104688.750000   105230.00000   \n",
       "50%       2012.000000   432.000000  109147.000000   108089.00000   \n",
       "75%       2017.000000   790.000000  588807.000000   110599.50000   \n",
       "max       2022.000000  2547.000000  723542.000000   723543.00000   \n",
       "\n",
       "       property_id_3  property_id_4  property_id_5  floors_above  \\\n",
       "count      41.000000      14.000000       3.000000   1424.000000   \n",
       "mean   245234.414634  331655.785714  434196.000000     14.198034   \n",
       "std    235687.819633  273376.949289  284763.009171     16.173996   \n",
       "min    100047.000000  100045.000000  105380.000000      0.000000   \n",
       "25%    104094.000000  105381.500000  351992.000000      3.000000   \n",
       "50%    105382.000000  108378.000000  598604.000000      8.000000   \n",
       "75%    604698.000000  598603.000000  598604.000000     20.000000   \n",
       "max    679272.000000  679273.000000  598604.000000    102.000000   \n",
       "\n",
       "       resi_dwellings   studio_dwe  ...   storage_flr  education_flr  \\\n",
       "count     1424.000000  1424.000000  ...   1424.000000    1424.000000   \n",
       "mean        80.474719     1.141854  ...     68.306180     254.655197   \n",
       "std        158.418894    10.138027  ...    717.009164    2186.407603   \n",
       "min          0.000000     0.000000  ...      0.000000       0.000000   \n",
       "25%          0.000000     0.000000  ...      0.000000       0.000000   \n",
       "50%          4.000000     0.000000  ...      0.000000       0.000000   \n",
       "75%         85.000000     0.000000  ...      0.000000       0.000000   \n",
       "max       1139.000000   181.000000  ...  14000.000000   40832.000000   \n",
       "\n",
       "        hospital_flr  recreation_flr  publicdispaly_flr  community_flr  \\\n",
       "count    1424.000000     1424.000000        1424.000000    1424.000000   \n",
       "mean      177.306180      123.966292          16.940309      21.820927   \n",
       "std      3697.041259     1695.990911         435.386178     241.116726   \n",
       "min         0.000000        0.000000           0.000000       0.000000   \n",
       "25%         0.000000        0.000000           0.000000       0.000000   \n",
       "50%         0.000000        0.000000           0.000000       0.000000   \n",
       "75%         0.000000        0.000000           0.000000       0.000000   \n",
       "max    100000.000000    58935.000000       16073.000000    5332.000000   \n",
       "\n",
       "        car_spaces  bike_spaces    longitude     latitude  \n",
       "count  1424.000000  1424.000000  1424.000000  1424.000000  \n",
       "mean     49.980337    50.806882   144.952388   -37.810838  \n",
       "std     116.956267   138.716600     0.015907     0.012134  \n",
       "min       0.000000     0.000000   144.901272   -37.849229  \n",
       "25%       0.000000     0.000000   144.942133   -37.820255  \n",
       "50%       0.000000     0.000000   144.954475   -37.811183  \n",
       "75%      41.250000    32.000000   144.962947   -37.802573  \n",
       "max    1275.000000  2429.000000   144.990561   -37.776195  \n",
       "\n",
       "[8 rows x 35 columns]"
      ]
     },
     "execution_count": 311,
     "metadata": {},
     "output_type": "execute_result"
    }
   ],
   "source": [
    "df.describe()"
   ]
  },
  {
   "cell_type": "code",
   "execution_count": 312,
   "id": "3665c889-6c3c-47c6-b0f5-33b326c105e5",
   "metadata": {},
   "outputs": [
    {
     "data": {
      "text/plain": [
       "data_format                       0\n",
       "development_key                   0\n",
       "status                            0\n",
       "year_completed                  431\n",
       "clue_small_area                   0\n",
       "clue_block                        0\n",
       "street_address                    0\n",
       "property_id                       0\n",
       "property_id_2                  1249\n",
       "property_id_3                  1383\n",
       "property_id_4                  1410\n",
       "property_id_5                  1421\n",
       "floors_above                      0\n",
       "resi_dwellings                    0\n",
       "studio_dwe                        0\n",
       "one_bdrm_dwe                      0\n",
       "two_bdrm_dwe                      0\n",
       "three_bdrm_dwe                    0\n",
       "student_apartments                0\n",
       "student_beds                      0\n",
       "student_accommodation_units       0\n",
       "institutional_accom_beds          0\n",
       "hotel_rooms                       0\n",
       "serviced_apartments               0\n",
       "hotels_serviced_apartments        0\n",
       "hostel_beds                       0\n",
       "childcare_places                  0\n",
       "office_flr                        0\n",
       "retail_flr                        0\n",
       "industrial_flr                    0\n",
       "storage_flr                       0\n",
       "education_flr                     0\n",
       "hospital_flr                      0\n",
       "recreation_flr                    0\n",
       "publicdispaly_flr                 0\n",
       "community_flr                     0\n",
       "car_spaces                        0\n",
       "bike_spaces                       0\n",
       "town_planning_application         0\n",
       "longitude                         0\n",
       "latitude                          0\n",
       "geopoint                          0\n",
       "dtype: int64"
      ]
     },
     "execution_count": 312,
     "metadata": {},
     "output_type": "execute_result"
    }
   ],
   "source": [
    "df.isnull().sum()"
   ]
  },
  {
   "cell_type": "markdown",
   "id": "22332ad4",
   "metadata": {},
   "source": [
    "* **3.Print all the possible values of the feature “status” and calculate the ratio of each “status” value.**"
   ]
  },
  {
   "cell_type": "code",
   "execution_count": 313,
   "id": "6de41665",
   "metadata": {},
   "outputs": [
    {
     "data": {
      "text/html": [
       "<div>\n",
       "<style scoped>\n",
       "    .dataframe tbody tr th:only-of-type {\n",
       "        vertical-align: middle;\n",
       "    }\n",
       "\n",
       "    .dataframe tbody tr th {\n",
       "        vertical-align: top;\n",
       "    }\n",
       "\n",
       "    .dataframe thead th {\n",
       "        text-align: right;\n",
       "    }\n",
       "</style>\n",
       "<table border=\"1\" class=\"dataframe\">\n",
       "  <thead>\n",
       "    <tr style=\"text-align: right;\">\n",
       "      <th></th>\n",
       "      <th>status</th>\n",
       "      <th>count</th>\n",
       "    </tr>\n",
       "  </thead>\n",
       "  <tbody>\n",
       "    <tr>\n",
       "      <th>0</th>\n",
       "      <td>APPLIED</td>\n",
       "      <td>95</td>\n",
       "    </tr>\n",
       "    <tr>\n",
       "      <th>1</th>\n",
       "      <td>APPROVED</td>\n",
       "      <td>245</td>\n",
       "    </tr>\n",
       "    <tr>\n",
       "      <th>2</th>\n",
       "      <td>COMPLETED</td>\n",
       "      <td>993</td>\n",
       "    </tr>\n",
       "    <tr>\n",
       "      <th>3</th>\n",
       "      <td>UNDER CONSTRUCTION</td>\n",
       "      <td>91</td>\n",
       "    </tr>\n",
       "  </tbody>\n",
       "</table>\n",
       "</div>"
      ],
      "text/plain": [
       "               status  count\n",
       "0             APPLIED     95\n",
       "1            APPROVED    245\n",
       "2           COMPLETED    993\n",
       "3  UNDER CONSTRUCTION     91"
      ]
     },
     "execution_count": 313,
     "metadata": {},
     "output_type": "execute_result"
    }
   ],
   "source": [
    "status_df = pd.DataFrame(df.groupby('status').size()).reset_index()\n",
    "status_df.columns =['status','count']\n",
    "status_df"
   ]
  },
  {
   "cell_type": "code",
   "execution_count": 314,
   "id": "f02442b8",
   "metadata": {},
   "outputs": [
    {
     "data": {
      "text/html": [
       "<div>\n",
       "<style scoped>\n",
       "    .dataframe tbody tr th:only-of-type {\n",
       "        vertical-align: middle;\n",
       "    }\n",
       "\n",
       "    .dataframe tbody tr th {\n",
       "        vertical-align: top;\n",
       "    }\n",
       "\n",
       "    .dataframe thead th {\n",
       "        text-align: right;\n",
       "    }\n",
       "</style>\n",
       "<table border=\"1\" class=\"dataframe\">\n",
       "  <thead>\n",
       "    <tr style=\"text-align: right;\">\n",
       "      <th></th>\n",
       "      <th>status</th>\n",
       "      <th>count</th>\n",
       "      <th>ratio</th>\n",
       "    </tr>\n",
       "  </thead>\n",
       "  <tbody>\n",
       "    <tr>\n",
       "      <th>0</th>\n",
       "      <td>APPLIED</td>\n",
       "      <td>95</td>\n",
       "      <td>6.67</td>\n",
       "    </tr>\n",
       "    <tr>\n",
       "      <th>1</th>\n",
       "      <td>APPROVED</td>\n",
       "      <td>245</td>\n",
       "      <td>17.21</td>\n",
       "    </tr>\n",
       "    <tr>\n",
       "      <th>2</th>\n",
       "      <td>COMPLETED</td>\n",
       "      <td>993</td>\n",
       "      <td>69.73</td>\n",
       "    </tr>\n",
       "    <tr>\n",
       "      <th>3</th>\n",
       "      <td>UNDER CONSTRUCTION</td>\n",
       "      <td>91</td>\n",
       "      <td>6.39</td>\n",
       "    </tr>\n",
       "  </tbody>\n",
       "</table>\n",
       "</div>"
      ],
      "text/plain": [
       "               status  count  ratio\n",
       "0             APPLIED     95   6.67\n",
       "1            APPROVED    245  17.21\n",
       "2           COMPLETED    993  69.73\n",
       "3  UNDER CONSTRUCTION     91   6.39"
      ]
     },
     "execution_count": 314,
     "metadata": {},
     "output_type": "execute_result"
    }
   ],
   "source": [
    "status_df['ratio'] = status_df['count'].transform(lambda x: round(100*x/x.sum(),2))\n",
    "status_df"
   ]
  },
  {
   "cell_type": "markdown",
   "id": "34c1eba8",
   "metadata": {},
   "source": [
    "* **4.Is there any association between clue_small_area and floors_above? Explain your results from given dataset.**"
   ]
  },
  {
   "cell_type": "code",
   "execution_count": 315,
   "id": "758b7742-0808-45ab-b75c-4b43dc15085f",
   "metadata": {},
   "outputs": [
    {
     "data": {
      "text/plain": [
       "clue_small_area\n",
       "Melbourne (CBD)                 7752\n",
       "Southbank                       4341\n",
       "Docklands                       3027\n",
       "Carlton                         1268\n",
       "North Melbourne                 1177\n",
       "West Melbourne (Residential)     939\n",
       "Port Melbourne                   435\n",
       "Kensington                       369\n",
       "East Melbourne                   310\n",
       "Parkville                        293\n",
       "Melbourne (Remainder)            179\n",
       "West Melbourne (Industrial)       82\n",
       "South Yarra                       46\n",
       "Name: floors_above, dtype: int64"
      ]
     },
     "execution_count": 315,
     "metadata": {},
     "output_type": "execute_result"
    }
   ],
   "source": [
    "df.groupby('clue_small_area').sum()['floors_above'].sort_values(ascending=False)"
   ]
  },
  {
   "cell_type": "markdown",
   "id": "4f32dc88-ca56-417e-b10d-d4c109168439",
   "metadata": {},
   "source": [
    "It looks like that central Melbourne areas (CBD, Southbank, Docklands) would have much more floors than other suburbs"
   ]
  },
  {
   "cell_type": "markdown",
   "id": "bfc59362",
   "metadata": {},
   "source": [
    "* **5.Print the number of properties for different suburbs. Please report the pattern found in the result, if any.**"
   ]
  },
  {
   "cell_type": "code",
   "execution_count": 316,
   "id": "78b8bac0",
   "metadata": {},
   "outputs": [
    {
     "data": {
      "text/plain": [
       "clue_small_area\n",
       "Melbourne (CBD)                 334\n",
       "Docklands                       198\n",
       "North Melbourne                 186\n",
       "Carlton                         137\n",
       "Southbank                       133\n",
       "West Melbourne (Residential)    112\n",
       "Kensington                       85\n",
       "Port Melbourne                   78\n",
       "Parkville                        61\n",
       "East Melbourne                   42\n",
       "Melbourne (Remainder)            21\n",
       "West Melbourne (Industrial)      21\n",
       "South Yarra                      16\n",
       "dtype: int64"
      ]
     },
     "execution_count": 316,
     "metadata": {},
     "output_type": "execute_result"
    }
   ],
   "source": [
    "df.groupby(['clue_small_area']).size().sort_values(ascending=False)"
   ]
  },
  {
   "cell_type": "markdown",
   "id": "c75ed0df",
   "metadata": {},
   "source": [
    "As we can see most properties listed are in city central such as CBD, Docklands, Carlton, Southbank"
   ]
  },
  {
   "cell_type": "markdown",
   "id": "830e3a94",
   "metadata": {},
   "source": [
    "* **6.which suburb has the smallest number of properties which are under construction?**"
   ]
  },
  {
   "cell_type": "code",
   "execution_count": 317,
   "id": "37c58e33",
   "metadata": {},
   "outputs": [
    {
     "data": {
      "text/plain": [
       "status              clue_small_area             \n",
       "UNDER CONSTRUCTION  South Yarra                       1\n",
       "                    West Melbourne (Industrial)       1\n",
       "APPROVED            Parkville                         2\n",
       "APPLIED             Parkville                         2\n",
       "                    South Yarra                       2\n",
       "UNDER CONSTRUCTION  Parkville                         2\n",
       "APPROVED            Melbourne (Remainder)             2\n",
       "UNDER CONSTRUCTION  Melbourne (Remainder)             4\n",
       "APPROVED            South Yarra                       4\n",
       "UNDER CONSTRUCTION  Carlton                           4\n",
       "APPROVED            West Melbourne (Industrial)       5\n",
       "APPLIED             Kensington                        5\n",
       "UNDER CONSTRUCTION  Southbank                         5\n",
       "                    East Melbourne                    5\n",
       "APPLIED             West Melbourne (Industrial)       6\n",
       "UNDER CONSTRUCTION  Kensington                        6\n",
       "APPLIED             Carlton                           7\n",
       "                    North Melbourne                   7\n",
       "                    East Melbourne                    7\n",
       "APPROVED            Port Melbourne                    8\n",
       "COMPLETED           West Melbourne (Industrial)       9\n",
       "UNDER CONSTRUCTION  Docklands                         9\n",
       "COMPLETED           South Yarra                       9\n",
       "APPROVED            East Melbourne                   10\n",
       "APPLIED             Port Melbourne                   10\n",
       "                    Docklands                        10\n",
       "UNDER CONSTRUCTION  West Melbourne (Residential)     11\n",
       "APPLIED             West Melbourne (Residential)     11\n",
       "APPROVED            Kensington                       11\n",
       "APPLIED             Southbank                        13\n",
       "                    Melbourne (CBD)                  15\n",
       "COMPLETED           Melbourne (Remainder)            15\n",
       "UNDER CONSTRUCTION  North Melbourne                  16\n",
       "COMPLETED           East Melbourne                   20\n",
       "APPROVED            Carlton                          20\n",
       "                    West Melbourne (Residential)     21\n",
       "                    Docklands                        23\n",
       "UNDER CONSTRUCTION  Melbourne (CBD)                  27\n",
       "APPROVED            Southbank                        33\n",
       "                    North Melbourne                  45\n",
       "COMPLETED           Parkville                        55\n",
       "                    Port Melbourne                   60\n",
       "APPROVED            Melbourne (CBD)                  61\n",
       "COMPLETED           Kensington                       63\n",
       "                    West Melbourne (Residential)     69\n",
       "                    Southbank                        82\n",
       "                    Carlton                         106\n",
       "                    North Melbourne                 118\n",
       "                    Docklands                       156\n",
       "                    Melbourne (CBD)                 231\n",
       "dtype: int64"
      ]
     },
     "execution_count": 317,
     "metadata": {},
     "output_type": "execute_result"
    }
   ],
   "source": [
    "df.groupby(['status', 'clue_small_area']).size().sort_values()"
   ]
  },
  {
   "cell_type": "markdown",
   "id": "0c8a6e80",
   "metadata": {},
   "source": [
    "The suburb that has smallest number of properties under construction is South Yarra which has 1 property."
   ]
  },
  {
   "cell_type": "markdown",
   "id": "1630956a",
   "metadata": {},
   "source": [
    "* **7.which suburb has the biggest number of hotel rooms?**"
   ]
  },
  {
   "cell_type": "code",
   "execution_count": 318,
   "id": "5d51fd0c",
   "metadata": {},
   "outputs": [
    {
     "data": {
      "text/plain": [
       "clue_small_area\n",
       "Melbourne (CBD)                 9664\n",
       "Southbank                       7180\n",
       "Docklands                       1707\n",
       "West Melbourne (Residential)     865\n",
       "North Melbourne                  562\n",
       "Carlton                          262\n",
       "Melbourne (Remainder)            166\n",
       "West Melbourne (Industrial)      147\n",
       "Parkville                        100\n",
       "East Melbourne                    52\n",
       "Kensington                         0\n",
       "Port Melbourne                     0\n",
       "South Yarra                        0\n",
       "Name: hotel_rooms, dtype: int64"
      ]
     },
     "execution_count": 318,
     "metadata": {},
     "output_type": "execute_result"
    }
   ],
   "source": [
    "df.groupby('clue_small_area')['hotel_rooms'].sum().sort_values(ascending = False)"
   ]
  },
  {
   "cell_type": "markdown",
   "id": "0c4853c6",
   "metadata": {},
   "source": [
    "Melbourne(CBD) has the highest number of hotel rooms which is 9664"
   ]
  },
  {
   "cell_type": "markdown",
   "id": "7a13721b",
   "metadata": {},
   "source": [
    "* **8.Create and print a data frame of the number of different status values for different year\n",
    "groups (based on 5 years interval)**"
   ]
  },
  {
   "cell_type": "code",
   "execution_count": 319,
   "id": "3ea8daf7",
   "metadata": {},
   "outputs": [
    {
     "data": {
      "text/plain": [
       "[2002.0,\n",
       " 2003.0,\n",
       " 2004.0,\n",
       " 2005.0,\n",
       " 2006.0,\n",
       " 2007.0,\n",
       " 2008.0,\n",
       " 2009.0,\n",
       " 2010.0,\n",
       " 2011.0,\n",
       " 2012.0,\n",
       " 2013.0,\n",
       " 2014.0,\n",
       " 2015.0,\n",
       " 2016.0,\n",
       " 2017.0,\n",
       " 2018.0,\n",
       " 2019.0,\n",
       " 2020.0,\n",
       " 2021.0,\n",
       " 2022.0,\n",
       " nan]"
      ]
     },
     "execution_count": 319,
     "metadata": {},
     "output_type": "execute_result"
    }
   ],
   "source": [
    "#First let's see what are the years we have in the data set\n",
    "sorted(df['year_completed'].unique())"
   ]
  },
  {
   "cell_type": "code",
   "execution_count": 370,
   "id": "90de8b12-3178-417a-b3f8-58b019846542",
   "metadata": {},
   "outputs": [
    {
     "data": {
      "text/html": [
       "<div>\n",
       "<style scoped>\n",
       "    .dataframe tbody tr th:only-of-type {\n",
       "        vertical-align: middle;\n",
       "    }\n",
       "\n",
       "    .dataframe tbody tr th {\n",
       "        vertical-align: top;\n",
       "    }\n",
       "\n",
       "    .dataframe thead th {\n",
       "        text-align: right;\n",
       "    }\n",
       "</style>\n",
       "<table border=\"1\" class=\"dataframe\">\n",
       "  <thead>\n",
       "    <tr style=\"text-align: right;\">\n",
       "      <th></th>\n",
       "      <th>Year Interval</th>\n",
       "      <th>Count</th>\n",
       "    </tr>\n",
       "  </thead>\n",
       "  <tbody>\n",
       "    <tr>\n",
       "      <th>0</th>\n",
       "      <td>2002-2006</td>\n",
       "      <td>195</td>\n",
       "    </tr>\n",
       "    <tr>\n",
       "      <th>1</th>\n",
       "      <td>2007-2011</td>\n",
       "      <td>260</td>\n",
       "    </tr>\n",
       "    <tr>\n",
       "      <th>2</th>\n",
       "      <td>2012-2016</td>\n",
       "      <td>269</td>\n",
       "    </tr>\n",
       "    <tr>\n",
       "      <th>3</th>\n",
       "      <td>2017-2022</td>\n",
       "      <td>269</td>\n",
       "    </tr>\n",
       "  </tbody>\n",
       "</table>\n",
       "</div>"
      ],
      "text/plain": [
       "  Year Interval  Count\n",
       "0     2002-2006    195\n",
       "1     2007-2011    260\n",
       "2     2012-2016    269\n",
       "3     2017-2022    269"
      ]
     },
     "execution_count": 370,
     "metadata": {},
     "output_type": "execute_result"
    }
   ],
   "source": [
    "df_new=df.dropna(subset=['year_completed'])\n",
    "conditions = [\n",
    "    (df_new['year_completed'] >=2002) & (df_new['year_completed'] <=2006),\n",
    "    (df_new['year_completed'] >=2007) & (df_new['year_completed'] <=2011),\n",
    "    (df_new['year_completed'] >=2012) & (df_new['year_completed'] <=2016),\n",
    "    (df_new['year_completed'] >=2017) & (df_new['year_completed'] <=2022)\n",
    "    ]\n",
    "\n",
    "values = ['2002-2006', '2007-2011', '2012-2016', '2017-2022']\n",
    "\n",
    "df_new['year_group'] = np.select(conditions, values)\n",
    "\n",
    "df_5Y = pd.DataFrame(df_new.groupby('year_group').size().reset_index())\n",
    "df_5Y.columns = (['Year Interval', 'Count'])\n",
    "df_5Y"
   ]
  },
  {
   "cell_type": "markdown",
   "id": "bdc1b5c8-1673-47c7-a398-ab994794a688",
   "metadata": {},
   "source": [
    "* **9.Draw a histogram of number of status values against different year groups. Explain the result**"
   ]
  },
  {
   "cell_type": "code",
   "execution_count": 396,
   "id": "0055eb34-d24e-4baa-abd7-a8dff2edcd98",
   "metadata": {},
   "outputs": [
    {
     "data": {
      "image/png": "[encoded data removed]",
      "text/plain": [
       "<Figure size 576x396 with 1 Axes>"
      ]
     },
     "metadata": {},
     "output_type": "display_data"
    }
   ],
   "source": [
    "plt.hist(df_new['year_group'].sort_values(), bins = 4)\n",
    "plt.show()\n"
   ]
  },
  {
   "cell_type": "markdown",
   "id": "02c86deb-f957-4ee1-b85e-cbeb87eca057",
   "metadata": {},
   "source": [
    "The number of year completed increase through out the year. It started as 195 in year interval 2002-2006 and reached 269 in both year intervals 2012-2016 and 2017-2022."
   ]
  },
  {
   "cell_type": "markdown",
   "id": "4ed61a41",
   "metadata": {},
   "source": [
    "* **10.Based on the original dataset, exclude the clue_small_area feature, use the rest available features and perform clustering on all the properties and determine the number of clusters. Is this the same as the number of suburbs in the data set?**"
   ]
  },
  {
   "cell_type": "code",
   "execution_count": 325,
   "id": "5f88ffb3",
   "metadata": {},
   "outputs": [
    {
     "data": {
      "text/html": [
       "<div>\n",
       "<style scoped>\n",
       "    .dataframe tbody tr th:only-of-type {\n",
       "        vertical-align: middle;\n",
       "    }\n",
       "\n",
       "    .dataframe tbody tr th {\n",
       "        vertical-align: top;\n",
       "    }\n",
       "\n",
       "    .dataframe thead th {\n",
       "        text-align: right;\n",
       "    }\n",
       "</style>\n",
       "<table border=\"1\" class=\"dataframe\">\n",
       "  <thead>\n",
       "    <tr style=\"text-align: right;\">\n",
       "      <th></th>\n",
       "      <th>clue_small_area</th>\n",
       "      <th>clue_block</th>\n",
       "      <th>floors_above</th>\n",
       "      <th>resi_dwellings</th>\n",
       "      <th>studio_dwe</th>\n",
       "      <th>one_bdrm_dwe</th>\n",
       "      <th>two_bdrm_dwe</th>\n",
       "      <th>three_bdrm_dwe</th>\n",
       "      <th>student_apartments</th>\n",
       "      <th>student_beds</th>\n",
       "      <th>...</th>\n",
       "      <th>retail_flr</th>\n",
       "      <th>industrial_flr</th>\n",
       "      <th>storage_flr</th>\n",
       "      <th>education_flr</th>\n",
       "      <th>hospital_flr</th>\n",
       "      <th>recreation_flr</th>\n",
       "      <th>publicdispaly_flr</th>\n",
       "      <th>community_flr</th>\n",
       "      <th>car_spaces</th>\n",
       "      <th>bike_spaces</th>\n",
       "    </tr>\n",
       "  </thead>\n",
       "  <tbody>\n",
       "    <tr>\n",
       "      <th>0</th>\n",
       "      <td>North Melbourne</td>\n",
       "      <td>342</td>\n",
       "      <td>2</td>\n",
       "      <td>17</td>\n",
       "      <td>0</td>\n",
       "      <td>0</td>\n",
       "      <td>0</td>\n",
       "      <td>0</td>\n",
       "      <td>0</td>\n",
       "      <td>0</td>\n",
       "      <td>...</td>\n",
       "      <td>0</td>\n",
       "      <td>0</td>\n",
       "      <td>0</td>\n",
       "      <td>0</td>\n",
       "      <td>0</td>\n",
       "      <td>0</td>\n",
       "      <td>0</td>\n",
       "      <td>0</td>\n",
       "      <td>0</td>\n",
       "      <td>0</td>\n",
       "    </tr>\n",
       "    <tr>\n",
       "      <th>1</th>\n",
       "      <td>North Melbourne</td>\n",
       "      <td>333</td>\n",
       "      <td>3</td>\n",
       "      <td>12</td>\n",
       "      <td>0</td>\n",
       "      <td>0</td>\n",
       "      <td>0</td>\n",
       "      <td>0</td>\n",
       "      <td>0</td>\n",
       "      <td>0</td>\n",
       "      <td>...</td>\n",
       "      <td>0</td>\n",
       "      <td>0</td>\n",
       "      <td>0</td>\n",
       "      <td>0</td>\n",
       "      <td>0</td>\n",
       "      <td>0</td>\n",
       "      <td>0</td>\n",
       "      <td>0</td>\n",
       "      <td>0</td>\n",
       "      <td>0</td>\n",
       "    </tr>\n",
       "    <tr>\n",
       "      <th>2</th>\n",
       "      <td>West Melbourne (Residential)</td>\n",
       "      <td>414</td>\n",
       "      <td>4</td>\n",
       "      <td>3</td>\n",
       "      <td>0</td>\n",
       "      <td>0</td>\n",
       "      <td>0</td>\n",
       "      <td>3</td>\n",
       "      <td>0</td>\n",
       "      <td>0</td>\n",
       "      <td>...</td>\n",
       "      <td>0</td>\n",
       "      <td>0</td>\n",
       "      <td>0</td>\n",
       "      <td>0</td>\n",
       "      <td>0</td>\n",
       "      <td>0</td>\n",
       "      <td>0</td>\n",
       "      <td>0</td>\n",
       "      <td>0</td>\n",
       "      <td>0</td>\n",
       "    </tr>\n",
       "    <tr>\n",
       "      <th>3</th>\n",
       "      <td>West Melbourne (Residential)</td>\n",
       "      <td>409</td>\n",
       "      <td>3</td>\n",
       "      <td>28</td>\n",
       "      <td>0</td>\n",
       "      <td>17</td>\n",
       "      <td>11</td>\n",
       "      <td>0</td>\n",
       "      <td>0</td>\n",
       "      <td>0</td>\n",
       "      <td>...</td>\n",
       "      <td>0</td>\n",
       "      <td>0</td>\n",
       "      <td>0</td>\n",
       "      <td>0</td>\n",
       "      <td>0</td>\n",
       "      <td>0</td>\n",
       "      <td>0</td>\n",
       "      <td>0</td>\n",
       "      <td>0</td>\n",
       "      <td>28</td>\n",
       "    </tr>\n",
       "    <tr>\n",
       "      <th>4</th>\n",
       "      <td>North Melbourne</td>\n",
       "      <td>1012</td>\n",
       "      <td>2</td>\n",
       "      <td>0</td>\n",
       "      <td>0</td>\n",
       "      <td>0</td>\n",
       "      <td>0</td>\n",
       "      <td>0</td>\n",
       "      <td>0</td>\n",
       "      <td>0</td>\n",
       "      <td>...</td>\n",
       "      <td>0</td>\n",
       "      <td>0</td>\n",
       "      <td>0</td>\n",
       "      <td>0</td>\n",
       "      <td>0</td>\n",
       "      <td>0</td>\n",
       "      <td>0</td>\n",
       "      <td>0</td>\n",
       "      <td>0</td>\n",
       "      <td>0</td>\n",
       "    </tr>\n",
       "  </tbody>\n",
       "</table>\n",
       "<p>5 rows × 28 columns</p>\n",
       "</div>"
      ],
      "text/plain": [
       "                clue_small_area  clue_block  floors_above  resi_dwellings  \\\n",
       "0               North Melbourne         342             2              17   \n",
       "1               North Melbourne         333             3              12   \n",
       "2  West Melbourne (Residential)         414             4               3   \n",
       "3  West Melbourne (Residential)         409             3              28   \n",
       "4               North Melbourne        1012             2               0   \n",
       "\n",
       "   studio_dwe  one_bdrm_dwe  two_bdrm_dwe  three_bdrm_dwe  student_apartments  \\\n",
       "0           0             0             0               0                   0   \n",
       "1           0             0             0               0                   0   \n",
       "2           0             0             0               3                   0   \n",
       "3           0            17            11               0                   0   \n",
       "4           0             0             0               0                   0   \n",
       "\n",
       "   student_beds  ...  retail_flr  industrial_flr  storage_flr  education_flr  \\\n",
       "0             0  ...           0               0            0              0   \n",
       "1             0  ...           0               0            0              0   \n",
       "2             0  ...           0               0            0              0   \n",
       "3             0  ...           0               0            0              0   \n",
       "4             0  ...           0               0            0              0   \n",
       "\n",
       "   hospital_flr  recreation_flr  publicdispaly_flr  community_flr  car_spaces  \\\n",
       "0             0               0                  0              0           0   \n",
       "1             0               0                  0              0           0   \n",
       "2             0               0                  0              0           0   \n",
       "3             0               0                  0              0           0   \n",
       "4             0               0                  0              0           0   \n",
       "\n",
       "   bike_spaces  \n",
       "0            0  \n",
       "1            0  \n",
       "2            0  \n",
       "3           28  \n",
       "4            0  \n",
       "\n",
       "[5 rows x 28 columns]"
      ]
     },
     "execution_count": 325,
     "metadata": {},
     "output_type": "execute_result"
    }
   ],
   "source": [
    "#drop irrelevant data\n",
    "data_set = df.drop(['data_format', 'development_key', 'status','year_completed',\n",
    "                  'street_address','property_id','property_id_2','property_id_3',\n",
    "                  'property_id_4','property_id_5','town_planning_application', 'geopoint', 'longitude', 'latitude'], axis = 1)\n",
    "data_set.head()"
   ]
  },
  {
   "cell_type": "code",
   "execution_count": 326,
   "id": "241f76ce",
   "metadata": {},
   "outputs": [
    {
     "data": {
      "text/plain": [
       "clue_small_area                0\n",
       "clue_block                     0\n",
       "floors_above                   0\n",
       "resi_dwellings                 0\n",
       "studio_dwe                     0\n",
       "one_bdrm_dwe                   0\n",
       "two_bdrm_dwe                   0\n",
       "three_bdrm_dwe                 0\n",
       "student_apartments             0\n",
       "student_beds                   0\n",
       "student_accommodation_units    0\n",
       "institutional_accom_beds       0\n",
       "hotel_rooms                    0\n",
       "serviced_apartments            0\n",
       "hotels_serviced_apartments     0\n",
       "hostel_beds                    0\n",
       "childcare_places               0\n",
       "office_flr                     0\n",
       "retail_flr                     0\n",
       "industrial_flr                 0\n",
       "storage_flr                    0\n",
       "education_flr                  0\n",
       "hospital_flr                   0\n",
       "recreation_flr                 0\n",
       "publicdispaly_flr              0\n",
       "community_flr                  0\n",
       "car_spaces                     0\n",
       "bike_spaces                    0\n",
       "dtype: int64"
      ]
     },
     "execution_count": 326,
     "metadata": {},
     "output_type": "execute_result"
    }
   ],
   "source": [
    "data_set.isnull().sum()"
   ]
  },
  {
   "cell_type": "code",
   "execution_count": 327,
   "id": "5054c14f-eaeb-44d7-9cb8-5904e86ce396",
   "metadata": {},
   "outputs": [],
   "source": [
    "#Get features and labels\n",
    "features = data_set.iloc[:,1:].values\n",
    "labels = data_set.iloc[:,0].values"
   ]
  },
  {
   "cell_type": "code",
   "execution_count": 328,
   "id": "00d156ce",
   "metadata": {},
   "outputs": [
    {
     "data": {
      "image/png": "[encoded data removed]",
      "text/plain": [
       "<Figure size 576x396 with 1 Axes>"
      ]
     },
     "metadata": {},
     "output_type": "display_data"
    },
    {
     "data": {
      "text/plain": [
       "<AxesSubplot: title={'center': 'Distortion Score Elbow for KMeans Clustering'}, xlabel='k', ylabel='distortion score'>"
      ]
     },
     "execution_count": 328,
     "metadata": {},
     "output_type": "execute_result"
    }
   ],
   "source": [
    "#Standardize data\n",
    "from sklearn.preprocessing import MinMaxScaler\n",
    "from yellowbrick.cluster import KElbowVisualizer\n",
    "from sklearn.cluster import KMeans\n",
    "from sklearn.metrics.cluster import contingency_matrix\n",
    "\n",
    "scaler = MinMaxScaler()\n",
    "scaler.fit(features)\n",
    "features_transformed = scaler.transform(features)\n",
    "\n",
    "km_model = KMeans()\n",
    "visualizer = KElbowVisualizer(km_model, k=(1,29), metric='distortion', timings=False)\n",
    "\n",
    "visualizer.fit(features_transformed)\n",
    "visualizer.show() "
   ]
  },
  {
   "cell_type": "markdown",
   "id": "b1d95797",
   "metadata": {},
   "source": [
    "The K suggested by yellowbrick library is 8 while the number of suburbs is 13"
   ]
  },
  {
   "cell_type": "markdown",
   "id": "66fa81f9",
   "metadata": {},
   "source": [
    "* **11.Perform K-Means on the data set, report the purity score.**"
   ]
  },
  {
   "cell_type": "code",
   "execution_count": 329,
   "id": "b0e145c4",
   "metadata": {},
   "outputs": [],
   "source": [
    "from sklearn import metrics\n",
    "\n",
    "#Purity Score function get from the Unit Website\n",
    "def purity_score(y_true, y_pred):\n",
    "    # compute contingency matrix (also called confusion matrix)\n",
    "    contingency_matrix = metrics.cluster.contingency_matrix(y_true, y_pred)\n",
    "    # return purity\n",
    "    return np.sum(np.amax(contingency_matrix, axis=0)) / np.sum(contingency_matrix)"
   ]
  },
  {
   "cell_type": "code",
   "execution_count": 330,
   "id": "00af1854",
   "metadata": {},
   "outputs": [],
   "source": [
    "#Perform KMean\n",
    "km_model = KMeans(n_clusters=13)\n",
    "km_model.fit_predict(features_transformed)\n",
    "\n",
    "#Get centroids\n",
    "centroids = km_model.cluster_centers_ \n",
    "\n",
    "#Get labels\n",
    "km_labels = km_model.labels_ "
   ]
  },
  {
   "cell_type": "code",
   "execution_count": 331,
   "id": "c8ac76ca",
   "metadata": {},
   "outputs": [
    {
     "name": "stdout",
     "output_type": "stream",
     "text": [
      "The purity score is 35.53%\n"
     ]
    }
   ],
   "source": [
    "# Report Purity Score\n",
    "purity = purity_score(labels, km_labels)\n",
    "print(f\"The purity score is {round(purity*100, 2)}%\")"
   ]
  },
  {
   "cell_type": "markdown",
   "id": "4dbd093e",
   "metadata": {},
   "source": [
    "The purity score is below average (34.9%) which means that for each cluster there would be a lot of data points from other clusters."
   ]
  },
  {
   "cell_type": "markdown",
   "id": "c4f63ee5",
   "metadata": {},
   "source": [
    "* **12. Try at least three different distance metrics for K-Means, select the best distance metric for each corresponding clustering algorithm, explain why the chosen distance metric is the best for the given data set.**"
   ]
  },
  {
   "cell_type": "code",
   "execution_count": 332,
   "id": "8ea0fbce-08a0-439e-80fa-6402733c0565",
   "metadata": {},
   "outputs": [],
   "source": [
    "import pyclustering\n",
    "from pyclustering.cluster.kmeans import kmeans\n",
    "from pyclustering.utils.metric import distance_metric\n",
    "from pyclustering.cluster.center_initializer import random_center_initializer,kmeans_plusplus_initializer\n",
    "from pyclustering.cluster.encoder import type_encoding\n",
    "from pyclustering.cluster.encoder import cluster_encoder"
   ]
  },
  {
   "cell_type": "code",
   "execution_count": 333,
   "id": "7a269c75-58b6-4396-b12e-67a5fa29221c",
   "metadata": {},
   "outputs": [
    {
     "name": "stdout",
     "output_type": "stream",
     "text": [
      "The purity score for euclidean distance is 35.46%\n",
      "The purity score for squared euclidean distance is 36.1%\n",
      "The purity score for manhattan distance is 27.74%\n",
      "The purity score for chebyshev distance is 42.42%\n",
      "The purity score for minkowski distance is 35.46%\n",
      "The purity score for canberra distance is 23.46%\n",
      "The purity score for chi-square distance is 34.2%\n"
     ]
    }
   ],
   "source": [
    "#try different distance metrics. Code adapted from: \n",
    "#https://www.kaggle.com/code/arushchillar/kmeans-clustering-using-different-distance-metrics\n",
    "\n",
    "# define dictionary for distance measures\n",
    "distance_measures = {'euclidean': 0, 'squared euclidean': 1, 'manhattan': 2, 'chebyshev': 3, 'minkowski':4,'canberra': 5, 'chi-square': 6}\n",
    "\n",
    "# function defined to compute purity score using pyclustering for various distance measures\n",
    "def pyPurity(dist_measure):\n",
    "    initial_centers = random_center_initializer(features_transformed, 13, random_state=5).initialize()\n",
    "    # instance created for respective distance metric\n",
    "    instanceKm = kmeans(features_transformed, initial_centers=initial_centers, metric=distance_metric(dist_measure))\n",
    "    # perform cluster analysis\n",
    "    instanceKm.process()\n",
    "    # cluster analysis results - clusters and centers\n",
    "    pyClusters = instanceKm.get_clusters()\n",
    "    pyCenters = instanceKm.get_centers()\n",
    "    # enumerate encoding type to index labeling to get labels\n",
    "    pyEncoding = instanceKm.get_cluster_encoding()\n",
    "    pyEncoder = cluster_encoder(pyEncoding, pyClusters, features_transformed)\n",
    "    pyLabels = pyEncoder.set_encoding(0).get_clusters()\n",
    "    # function purity score is defined in previous section\n",
    "    return purity_score(labels, pyLabels)\n",
    "\n",
    "# print results\n",
    "for measure, value in distance_measures.items():\n",
    "    print(f\"The purity score for {measure} distance is {round(pyPurity(value)*100, 2)}%\")"
   ]
  },
  {
   "cell_type": "markdown",
   "id": "8da56e25-612e-4e0a-9b60-3863b5026ed7",
   "metadata": {},
   "source": [
    "In this case, chebyshev disntace returns the highest result although euclidean distance is still working fine. This could because of the high dimensonality of the dataset."
   ]
  },
  {
   "cell_type": "markdown",
   "id": "ffada072-5c45-4da6-b8c0-ba47377ee7b7",
   "metadata": {},
   "source": [
    "* **13. Apart from K-Means, try another clustering method, and compare the results.**"
   ]
  },
  {
   "cell_type": "code",
   "execution_count": 334,
   "id": "5fd2d90f-52cd-4e03-9388-4bdf39b9b034",
   "metadata": {},
   "outputs": [],
   "source": [
    "from sklearn.cluster import DBSCAN\n",
    "clusters = DBSCAN(eps = 4.54, min_samples = 10).fit(features_transformed)"
   ]
  },
  {
   "cell_type": "code",
   "execution_count": 335,
   "id": "9f21eafc",
   "metadata": {},
   "outputs": [],
   "source": [
    "dbscan_labels = clusters.labels_"
   ]
  },
  {
   "cell_type": "code",
   "execution_count": 336,
   "id": "00b401ee",
   "metadata": {},
   "outputs": [
    {
     "name": "stdout",
     "output_type": "stream",
     "text": [
      "The purity score is 23.46%\n"
     ]
    }
   ],
   "source": [
    "# Report Purity Score\n",
    "dbscan_purity = purity_score(labels, dbscan_labels)\n",
    "print(f\"The purity score is {round(dbscan_purity*100, 2)}%\")"
   ]
  },
  {
   "cell_type": "markdown",
   "id": "4bc0e0f3-66e9-4b83-9fef-85d1492d2c58",
   "metadata": {},
   "source": [
    "The purity score using DBSCAN is much less than KMeans (23.36% compared to 34.9%)"
   ]
  }
 ],
 "metadata": {
  "kernelspec": {
   "display_name": "Python 3 (ipykernel)",
   "language": "python",
   "name": "python3"
  },
  "language_info": {
   "codemirror_mode": {
    "name": "ipython",
    "version": 3
   },
   "file_extension": ".py",
   "mimetype": "text/x-python",
   "name": "python",
   "nbconvert_exporter": "python",
   "pygments_lexer": "ipython3",
   "version": "3.10.1"
  }
 },
 "nbformat": 4,
 "nbformat_minor": 5
}
