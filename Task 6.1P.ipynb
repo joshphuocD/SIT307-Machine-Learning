{
 "cells": [
  {
   "cell_type": "code",
   "execution_count": 1,
   "id": "31fe4a6f-ca43-4dbf-8d24-54ecb8cdafb8",
   "metadata": {},
   "outputs": [],
   "source": [
    "import numpy as np\n",
    "import pandas as pd\n",
    "import seaborn as sns\n",
    "import matplotlib.pyplot as plt\n",
    "from sklearn import datasets\n",
    "from numpy.linalg import eig"
   ]
  },
  {
   "cell_type": "markdown",
   "id": "61b4d040-3b8d-4dd6-9320-6d0ff1278488",
   "metadata": {},
   "source": [
    "* **1.Download and read the \"Real estate valuation data set.xlsx\" dataset from the UCI repository. You can find the description of the features and targets on the UCI repository website. Split the dataset in train and test set (use your choice of splitting). Train a linear regression model and report the performance (use your choice of at least four performance metrics)**"
   ]
  },
  {
   "cell_type": "code",
   "execution_count": 2,
   "id": "2cb147f1-e422-488f-bd4b-9955bdad3312",
   "metadata": {},
   "outputs": [],
   "source": [
    "#Read data\n",
    "df = pd.read_excel('Real estate valuation data set.xlsx')"
   ]
  },
  {
   "cell_type": "code",
   "execution_count": 3,
   "id": "bd88f31d-6b98-4624-93e4-cc18217a496e",
   "metadata": {},
   "outputs": [
    {
     "data": {
      "text/plain": [
       "(414, 8)"
      ]
     },
     "execution_count": 3,
     "metadata": {},
     "output_type": "execute_result"
    }
   ],
   "source": [
    "df.shape"
   ]
  },
  {
   "cell_type": "code",
   "execution_count": 4,
   "id": "e7e14fc5-d6a3-40a2-8469-d6f15da1f587",
   "metadata": {},
   "outputs": [
    {
     "data": {
      "text/html": [
       "<div>\n",
       "<style scoped>\n",
       "    .dataframe tbody tr th:only-of-type {\n",
       "        vertical-align: middle;\n",
       "    }\n",
       "\n",
       "    .dataframe tbody tr th {\n",
       "        vertical-align: top;\n",
       "    }\n",
       "\n",
       "    .dataframe thead th {\n",
       "        text-align: right;\n",
       "    }\n",
       "</style>\n",
       "<table border=\"1\" class=\"dataframe\">\n",
       "  <thead>\n",
       "    <tr style=\"text-align: right;\">\n",
       "      <th></th>\n",
       "      <th>No</th>\n",
       "      <th>X1 transaction date</th>\n",
       "      <th>X2 house age</th>\n",
       "      <th>X3 distance to the nearest MRT station</th>\n",
       "      <th>X4 number of convenience stores</th>\n",
       "      <th>X5 latitude</th>\n",
       "      <th>X6 longitude</th>\n",
       "      <th>Y house price of unit area</th>\n",
       "    </tr>\n",
       "  </thead>\n",
       "  <tbody>\n",
       "    <tr>\n",
       "      <th>0</th>\n",
       "      <td>1</td>\n",
       "      <td>2012.916667</td>\n",
       "      <td>32.0</td>\n",
       "      <td>84.87882</td>\n",
       "      <td>10</td>\n",
       "      <td>24.98298</td>\n",
       "      <td>121.54024</td>\n",
       "      <td>37.9</td>\n",
       "    </tr>\n",
       "    <tr>\n",
       "      <th>1</th>\n",
       "      <td>2</td>\n",
       "      <td>2012.916667</td>\n",
       "      <td>19.5</td>\n",
       "      <td>306.59470</td>\n",
       "      <td>9</td>\n",
       "      <td>24.98034</td>\n",
       "      <td>121.53951</td>\n",
       "      <td>42.2</td>\n",
       "    </tr>\n",
       "    <tr>\n",
       "      <th>2</th>\n",
       "      <td>3</td>\n",
       "      <td>2013.583333</td>\n",
       "      <td>13.3</td>\n",
       "      <td>561.98450</td>\n",
       "      <td>5</td>\n",
       "      <td>24.98746</td>\n",
       "      <td>121.54391</td>\n",
       "      <td>47.3</td>\n",
       "    </tr>\n",
       "    <tr>\n",
       "      <th>3</th>\n",
       "      <td>4</td>\n",
       "      <td>2013.500000</td>\n",
       "      <td>13.3</td>\n",
       "      <td>561.98450</td>\n",
       "      <td>5</td>\n",
       "      <td>24.98746</td>\n",
       "      <td>121.54391</td>\n",
       "      <td>54.8</td>\n",
       "    </tr>\n",
       "    <tr>\n",
       "      <th>4</th>\n",
       "      <td>5</td>\n",
       "      <td>2012.833333</td>\n",
       "      <td>5.0</td>\n",
       "      <td>390.56840</td>\n",
       "      <td>5</td>\n",
       "      <td>24.97937</td>\n",
       "      <td>121.54245</td>\n",
       "      <td>43.1</td>\n",
       "    </tr>\n",
       "  </tbody>\n",
       "</table>\n",
       "</div>"
      ],
      "text/plain": [
       "   No  X1 transaction date  X2 house age  \\\n",
       "0   1          2012.916667          32.0   \n",
       "1   2          2012.916667          19.5   \n",
       "2   3          2013.583333          13.3   \n",
       "3   4          2013.500000          13.3   \n",
       "4   5          2012.833333           5.0   \n",
       "\n",
       "   X3 distance to the nearest MRT station  X4 number of convenience stores  \\\n",
       "0                                84.87882                               10   \n",
       "1                               306.59470                                9   \n",
       "2                               561.98450                                5   \n",
       "3                               561.98450                                5   \n",
       "4                               390.56840                                5   \n",
       "\n",
       "   X5 latitude  X6 longitude  Y house price of unit area  \n",
       "0     24.98298     121.54024                        37.9  \n",
       "1     24.98034     121.53951                        42.2  \n",
       "2     24.98746     121.54391                        47.3  \n",
       "3     24.98746     121.54391                        54.8  \n",
       "4     24.97937     121.54245                        43.1  "
      ]
     },
     "execution_count": 4,
     "metadata": {},
     "output_type": "execute_result"
    }
   ],
   "source": [
    "df.head()"
   ]
  },
  {
   "cell_type": "code",
   "execution_count": 5,
   "id": "6c3f09ab-58d9-4633-8ef3-8c566e8841a6",
   "metadata": {},
   "outputs": [
    {
     "name": "stdout",
     "output_type": "stream",
     "text": [
      "<class 'pandas.core.frame.DataFrame'>\n",
      "RangeIndex: 414 entries, 0 to 413\n",
      "Data columns (total 8 columns):\n",
      " #   Column                                  Non-Null Count  Dtype  \n",
      "---  ------                                  --------------  -----  \n",
      " 0   No                                      414 non-null    int64  \n",
      " 1   X1 transaction date                     414 non-null    float64\n",
      " 2   X2 house age                            414 non-null    float64\n",
      " 3   X3 distance to the nearest MRT station  414 non-null    float64\n",
      " 4   X4 number of convenience stores         414 non-null    int64  \n",
      " 5   X5 latitude                             414 non-null    float64\n",
      " 6   X6 longitude                            414 non-null    float64\n",
      " 7   Y house price of unit area              414 non-null    float64\n",
      "dtypes: float64(6), int64(2)\n",
      "memory usage: 26.0 KB\n"
     ]
    }
   ],
   "source": [
    "#Get overview of the data\n",
    "df.info()"
   ]
  },
  {
   "cell_type": "code",
   "execution_count": 6,
   "id": "d4f8aea9-dcdc-4d61-8ba3-1bdc00ffef4f",
   "metadata": {},
   "outputs": [
    {
     "data": {
      "text/html": [
       "<div>\n",
       "<style scoped>\n",
       "    .dataframe tbody tr th:only-of-type {\n",
       "        vertical-align: middle;\n",
       "    }\n",
       "\n",
       "    .dataframe tbody tr th {\n",
       "        vertical-align: top;\n",
       "    }\n",
       "\n",
       "    .dataframe thead th {\n",
       "        text-align: right;\n",
       "    }\n",
       "</style>\n",
       "<table border=\"1\" class=\"dataframe\">\n",
       "  <thead>\n",
       "    <tr style=\"text-align: right;\">\n",
       "      <th></th>\n",
       "      <th>No</th>\n",
       "      <th>X1 transaction date</th>\n",
       "      <th>X2 house age</th>\n",
       "      <th>X3 distance to the nearest MRT station</th>\n",
       "      <th>X4 number of convenience stores</th>\n",
       "      <th>X5 latitude</th>\n",
       "      <th>X6 longitude</th>\n",
       "      <th>Y house price of unit area</th>\n",
       "    </tr>\n",
       "  </thead>\n",
       "  <tbody>\n",
       "    <tr>\n",
       "      <th>count</th>\n",
       "      <td>414.000000</td>\n",
       "      <td>414.000000</td>\n",
       "      <td>414.000000</td>\n",
       "      <td>414.000000</td>\n",
       "      <td>414.000000</td>\n",
       "      <td>414.000000</td>\n",
       "      <td>414.000000</td>\n",
       "      <td>414.000000</td>\n",
       "    </tr>\n",
       "    <tr>\n",
       "      <th>mean</th>\n",
       "      <td>207.500000</td>\n",
       "      <td>2013.148953</td>\n",
       "      <td>17.712560</td>\n",
       "      <td>1083.885689</td>\n",
       "      <td>4.094203</td>\n",
       "      <td>24.969030</td>\n",
       "      <td>121.533361</td>\n",
       "      <td>37.980193</td>\n",
       "    </tr>\n",
       "    <tr>\n",
       "      <th>std</th>\n",
       "      <td>119.655756</td>\n",
       "      <td>0.281995</td>\n",
       "      <td>11.392485</td>\n",
       "      <td>1262.109595</td>\n",
       "      <td>2.945562</td>\n",
       "      <td>0.012410</td>\n",
       "      <td>0.015347</td>\n",
       "      <td>13.606488</td>\n",
       "    </tr>\n",
       "    <tr>\n",
       "      <th>min</th>\n",
       "      <td>1.000000</td>\n",
       "      <td>2012.666667</td>\n",
       "      <td>0.000000</td>\n",
       "      <td>23.382840</td>\n",
       "      <td>0.000000</td>\n",
       "      <td>24.932070</td>\n",
       "      <td>121.473530</td>\n",
       "      <td>7.600000</td>\n",
       "    </tr>\n",
       "    <tr>\n",
       "      <th>25%</th>\n",
       "      <td>104.250000</td>\n",
       "      <td>2012.916667</td>\n",
       "      <td>9.025000</td>\n",
       "      <td>289.324800</td>\n",
       "      <td>1.000000</td>\n",
       "      <td>24.963000</td>\n",
       "      <td>121.528085</td>\n",
       "      <td>27.700000</td>\n",
       "    </tr>\n",
       "    <tr>\n",
       "      <th>50%</th>\n",
       "      <td>207.500000</td>\n",
       "      <td>2013.166667</td>\n",
       "      <td>16.100000</td>\n",
       "      <td>492.231300</td>\n",
       "      <td>4.000000</td>\n",
       "      <td>24.971100</td>\n",
       "      <td>121.538630</td>\n",
       "      <td>38.450000</td>\n",
       "    </tr>\n",
       "    <tr>\n",
       "      <th>75%</th>\n",
       "      <td>310.750000</td>\n",
       "      <td>2013.416667</td>\n",
       "      <td>28.150000</td>\n",
       "      <td>1454.279000</td>\n",
       "      <td>6.000000</td>\n",
       "      <td>24.977455</td>\n",
       "      <td>121.543305</td>\n",
       "      <td>46.600000</td>\n",
       "    </tr>\n",
       "    <tr>\n",
       "      <th>max</th>\n",
       "      <td>414.000000</td>\n",
       "      <td>2013.583333</td>\n",
       "      <td>43.800000</td>\n",
       "      <td>6488.021000</td>\n",
       "      <td>10.000000</td>\n",
       "      <td>25.014590</td>\n",
       "      <td>121.566270</td>\n",
       "      <td>117.500000</td>\n",
       "    </tr>\n",
       "  </tbody>\n",
       "</table>\n",
       "</div>"
      ],
      "text/plain": [
       "               No  X1 transaction date  X2 house age  \\\n",
       "count  414.000000           414.000000    414.000000   \n",
       "mean   207.500000          2013.148953     17.712560   \n",
       "std    119.655756             0.281995     11.392485   \n",
       "min      1.000000          2012.666667      0.000000   \n",
       "25%    104.250000          2012.916667      9.025000   \n",
       "50%    207.500000          2013.166667     16.100000   \n",
       "75%    310.750000          2013.416667     28.150000   \n",
       "max    414.000000          2013.583333     43.800000   \n",
       "\n",
       "       X3 distance to the nearest MRT station  \\\n",
       "count                              414.000000   \n",
       "mean                              1083.885689   \n",
       "std                               1262.109595   \n",
       "min                                 23.382840   \n",
       "25%                                289.324800   \n",
       "50%                                492.231300   \n",
       "75%                               1454.279000   \n",
       "max                               6488.021000   \n",
       "\n",
       "       X4 number of convenience stores  X5 latitude  X6 longitude  \\\n",
       "count                       414.000000   414.000000    414.000000   \n",
       "mean                          4.094203    24.969030    121.533361   \n",
       "std                           2.945562     0.012410      0.015347   \n",
       "min                           0.000000    24.932070    121.473530   \n",
       "25%                           1.000000    24.963000    121.528085   \n",
       "50%                           4.000000    24.971100    121.538630   \n",
       "75%                           6.000000    24.977455    121.543305   \n",
       "max                          10.000000    25.014590    121.566270   \n",
       "\n",
       "       Y house price of unit area  \n",
       "count                  414.000000  \n",
       "mean                    37.980193  \n",
       "std                     13.606488  \n",
       "min                      7.600000  \n",
       "25%                     27.700000  \n",
       "50%                     38.450000  \n",
       "75%                     46.600000  \n",
       "max                    117.500000  "
      ]
     },
     "execution_count": 6,
     "metadata": {},
     "output_type": "execute_result"
    }
   ],
   "source": [
    "df.describe()"
   ]
  },
  {
   "cell_type": "code",
   "execution_count": 7,
   "id": "a49e8d2c-fc11-4678-8d10-cfd45be4ca47",
   "metadata": {},
   "outputs": [
    {
     "data": {
      "text/plain": [
       "No                                        0\n",
       "X1 transaction date                       0\n",
       "X2 house age                              0\n",
       "X3 distance to the nearest MRT station    0\n",
       "X4 number of convenience stores           0\n",
       "X5 latitude                               0\n",
       "X6 longitude                              0\n",
       "Y house price of unit area                0\n",
       "dtype: int64"
      ]
     },
     "execution_count": 7,
     "metadata": {},
     "output_type": "execute_result"
    }
   ],
   "source": [
    "df.isnull().sum()"
   ]
  },
  {
   "cell_type": "code",
   "execution_count": 8,
   "id": "ca2a0735-150c-4710-94ea-61e7a74072a0",
   "metadata": {},
   "outputs": [],
   "source": [
    "from sklearn.preprocessing import StandardScaler"
   ]
  },
  {
   "cell_type": "code",
   "execution_count": 9,
   "id": "6c0a1789-61bf-47b1-b7c4-c83078cecb0b",
   "metadata": {},
   "outputs": [
    {
     "data": {
      "text/html": [
       "<div>\n",
       "<style scoped>\n",
       "    .dataframe tbody tr th:only-of-type {\n",
       "        vertical-align: middle;\n",
       "    }\n",
       "\n",
       "    .dataframe tbody tr th {\n",
       "        vertical-align: top;\n",
       "    }\n",
       "\n",
       "    .dataframe thead th {\n",
       "        text-align: right;\n",
       "    }\n",
       "</style>\n",
       "<table border=\"1\" class=\"dataframe\">\n",
       "  <thead>\n",
       "    <tr style=\"text-align: right;\">\n",
       "      <th></th>\n",
       "      <th>No</th>\n",
       "      <th>X1 transaction date</th>\n",
       "      <th>X2 house age</th>\n",
       "      <th>X3 distance to the nearest MRT station</th>\n",
       "      <th>X4 number of convenience stores</th>\n",
       "      <th>X5 latitude</th>\n",
       "      <th>X6 longitude</th>\n",
       "      <th>Y house price of unit area</th>\n",
       "    </tr>\n",
       "  </thead>\n",
       "  <tbody>\n",
       "    <tr>\n",
       "      <th>0</th>\n",
       "      <td>1</td>\n",
       "      <td>2012.916667</td>\n",
       "      <td>32.0</td>\n",
       "      <td>84.87882</td>\n",
       "      <td>10</td>\n",
       "      <td>24.98298</td>\n",
       "      <td>121.54024</td>\n",
       "      <td>37.9</td>\n",
       "    </tr>\n",
       "    <tr>\n",
       "      <th>1</th>\n",
       "      <td>2</td>\n",
       "      <td>2012.916667</td>\n",
       "      <td>19.5</td>\n",
       "      <td>306.59470</td>\n",
       "      <td>9</td>\n",
       "      <td>24.98034</td>\n",
       "      <td>121.53951</td>\n",
       "      <td>42.2</td>\n",
       "    </tr>\n",
       "    <tr>\n",
       "      <th>2</th>\n",
       "      <td>3</td>\n",
       "      <td>2013.583333</td>\n",
       "      <td>13.3</td>\n",
       "      <td>561.98450</td>\n",
       "      <td>5</td>\n",
       "      <td>24.98746</td>\n",
       "      <td>121.54391</td>\n",
       "      <td>47.3</td>\n",
       "    </tr>\n",
       "    <tr>\n",
       "      <th>3</th>\n",
       "      <td>4</td>\n",
       "      <td>2013.500000</td>\n",
       "      <td>13.3</td>\n",
       "      <td>561.98450</td>\n",
       "      <td>5</td>\n",
       "      <td>24.98746</td>\n",
       "      <td>121.54391</td>\n",
       "      <td>54.8</td>\n",
       "    </tr>\n",
       "    <tr>\n",
       "      <th>4</th>\n",
       "      <td>5</td>\n",
       "      <td>2012.833333</td>\n",
       "      <td>5.0</td>\n",
       "      <td>390.56840</td>\n",
       "      <td>5</td>\n",
       "      <td>24.97937</td>\n",
       "      <td>121.54245</td>\n",
       "      <td>43.1</td>\n",
       "    </tr>\n",
       "  </tbody>\n",
       "</table>\n",
       "</div>"
      ],
      "text/plain": [
       "   No  X1 transaction date  X2 house age  \\\n",
       "0   1          2012.916667          32.0   \n",
       "1   2          2012.916667          19.5   \n",
       "2   3          2013.583333          13.3   \n",
       "3   4          2013.500000          13.3   \n",
       "4   5          2012.833333           5.0   \n",
       "\n",
       "   X3 distance to the nearest MRT station  X4 number of convenience stores  \\\n",
       "0                                84.87882                               10   \n",
       "1                               306.59470                                9   \n",
       "2                               561.98450                                5   \n",
       "3                               561.98450                                5   \n",
       "4                               390.56840                                5   \n",
       "\n",
       "   X5 latitude  X6 longitude  Y house price of unit area  \n",
       "0     24.98298     121.54024                        37.9  \n",
       "1     24.98034     121.53951                        42.2  \n",
       "2     24.98746     121.54391                        47.3  \n",
       "3     24.98746     121.54391                        54.8  \n",
       "4     24.97937     121.54245                        43.1  "
      ]
     },
     "execution_count": 9,
     "metadata": {},
     "output_type": "execute_result"
    }
   ],
   "source": [
    "#Standardize the dataset\n",
    "scaler = StandardScaler()\n",
    "scaler.fit(df)\n",
    "df.head()"
   ]
  },
  {
   "cell_type": "code",
   "execution_count": 10,
   "id": "8c3ed417-b4b1-4191-aaf0-d8887f57175f",
   "metadata": {},
   "outputs": [],
   "source": [
    "from sklearn.model_selection import train_test_split"
   ]
  },
  {
   "cell_type": "code",
   "execution_count": 11,
   "id": "9f49efb7-3d54-420a-af66-62338e386950",
   "metadata": {},
   "outputs": [],
   "source": [
    "#Get features and target\n",
    "X = df.drop('Y house price of unit area', axis = 1)\n",
    "y = df['Y house price of unit area']"
   ]
  },
  {
   "cell_type": "code",
   "execution_count": 12,
   "id": "3d7d1de0-70a2-4a33-8045-80298396c10f",
   "metadata": {},
   "outputs": [],
   "source": [
    "#Split train and test sets\n",
    "X_train, X_test, y_train, y_test = train_test_split(X, y, test_size=0.3)"
   ]
  },
  {
   "cell_type": "code",
   "execution_count": 13,
   "id": "aec454d6-9f0e-42e5-bc9d-6055bba62c3d",
   "metadata": {},
   "outputs": [],
   "source": [
    "from sklearn.linear_model import LinearRegression"
   ]
  },
  {
   "cell_type": "code",
   "execution_count": 14,
   "id": "98d5064d-8a71-4172-aff6-8a14affdbd4e",
   "metadata": {},
   "outputs": [],
   "source": [
    "lr_model = LinearRegression()"
   ]
  },
  {
   "cell_type": "code",
   "execution_count": 15,
   "id": "b675104d-aa8c-4af6-953c-4ea5cf6260cd",
   "metadata": {},
   "outputs": [
    {
     "data": {
      "text/html": [
       "<style>#sk-container-id-1 {color: black;background-color: white;}#sk-container-id-1 pre{padding: 0;}#sk-container-id-1 div.sk-toggleable {background-color: white;}#sk-container-id-1 label.sk-toggleable__label {cursor: pointer;display: block;width: 100%;margin-bottom: 0;padding: 0.3em;box-sizing: border-box;text-align: center;}#sk-container-id-1 label.sk-toggleable__label-arrow:before {content: \"▸\";float: left;margin-right: 0.25em;color: #696969;}#sk-container-id-1 label.sk-toggleable__label-arrow:hover:before {color: black;}#sk-container-id-1 div.sk-estimator:hover label.sk-toggleable__label-arrow:before {color: black;}#sk-container-id-1 div.sk-toggleable__content {max-height: 0;max-width: 0;overflow: hidden;text-align: left;background-color: #f0f8ff;}#sk-container-id-1 div.sk-toggleable__content pre {margin: 0.2em;color: black;border-radius: 0.25em;background-color: #f0f8ff;}#sk-container-id-1 input.sk-toggleable__control:checked~div.sk-toggleable__content {max-height: 200px;max-width: 100%;overflow: auto;}#sk-container-id-1 input.sk-toggleable__control:checked~label.sk-toggleable__label-arrow:before {content: \"▾\";}#sk-container-id-1 div.sk-estimator input.sk-toggleable__control:checked~label.sk-toggleable__label {background-color: #d4ebff;}#sk-container-id-1 div.sk-label input.sk-toggleable__control:checked~label.sk-toggleable__label {background-color: #d4ebff;}#sk-container-id-1 input.sk-hidden--visually {border: 0;clip: rect(1px 1px 1px 1px);clip: rect(1px, 1px, 1px, 1px);height: 1px;margin: -1px;overflow: hidden;padding: 0;position: absolute;width: 1px;}#sk-container-id-1 div.sk-estimator {font-family: monospace;background-color: #f0f8ff;border: 1px dotted black;border-radius: 0.25em;box-sizing: border-box;margin-bottom: 0.5em;}#sk-container-id-1 div.sk-estimator:hover {background-color: #d4ebff;}#sk-container-id-1 div.sk-parallel-item::after {content: \"\";width: 100%;border-bottom: 1px solid gray;flex-grow: 1;}#sk-container-id-1 div.sk-label:hover label.sk-toggleable__label {background-color: #d4ebff;}#sk-container-id-1 div.sk-serial::before {content: \"\";position: absolute;border-left: 1px solid gray;box-sizing: border-box;top: 0;bottom: 0;left: 50%;z-index: 0;}#sk-container-id-1 div.sk-serial {display: flex;flex-direction: column;align-items: center;background-color: white;padding-right: 0.2em;padding-left: 0.2em;position: relative;}#sk-container-id-1 div.sk-item {position: relative;z-index: 1;}#sk-container-id-1 div.sk-parallel {display: flex;align-items: stretch;justify-content: center;background-color: white;position: relative;}#sk-container-id-1 div.sk-item::before, #sk-container-id-1 div.sk-parallel-item::before {content: \"\";position: absolute;border-left: 1px solid gray;box-sizing: border-box;top: 0;bottom: 0;left: 50%;z-index: -1;}#sk-container-id-1 div.sk-parallel-item {display: flex;flex-direction: column;z-index: 1;position: relative;background-color: white;}#sk-container-id-1 div.sk-parallel-item:first-child::after {align-self: flex-end;width: 50%;}#sk-container-id-1 div.sk-parallel-item:last-child::after {align-self: flex-start;width: 50%;}#sk-container-id-1 div.sk-parallel-item:only-child::after {width: 0;}#sk-container-id-1 div.sk-dashed-wrapped {border: 1px dashed gray;margin: 0 0.4em 0.5em 0.4em;box-sizing: border-box;padding-bottom: 0.4em;background-color: white;}#sk-container-id-1 div.sk-label label {font-family: monospace;font-weight: bold;display: inline-block;line-height: 1.2em;}#sk-container-id-1 div.sk-label-container {text-align: center;}#sk-container-id-1 div.sk-container {/* jupyter's `normalize.less` sets `[hidden] { display: none; }` but bootstrap.min.css set `[hidden] { display: none !important; }` so we also need the `!important` here to be able to override the default hidden behavior on the sphinx rendered scikit-learn.org. See: https://github.com/scikit-learn/scikit-learn/issues/21755 */display: inline-block !important;position: relative;}#sk-container-id-1 div.sk-text-repr-fallback {display: none;}</style><div id=\"sk-container-id-1\" class=\"sk-top-container\"><div class=\"sk-text-repr-fallback\"><pre>LinearRegression()</pre><b>In a Jupyter environment, please rerun this cell to show the HTML representation or trust the notebook. <br />On GitHub, the HTML representation is unable to render, please try loading this page with nbviewer.org.</b></div><div class=\"sk-container\" hidden><div class=\"sk-item\"><div class=\"sk-estimator sk-toggleable\"><input class=\"sk-toggleable__control sk-hidden--visually\" id=\"sk-estimator-id-1\" type=\"checkbox\" checked><label for=\"sk-estimator-id-1\" class=\"sk-toggleable__label sk-toggleable__label-arrow\">LinearRegression</label><div class=\"sk-toggleable__content\"><pre>LinearRegression()</pre></div></div></div></div></div>"
      ],
      "text/plain": [
       "LinearRegression()"
      ]
     },
     "execution_count": 15,
     "metadata": {},
     "output_type": "execute_result"
    }
   ],
   "source": [
    "lr_model.fit(X_train, y_train)"
   ]
  },
  {
   "cell_type": "code",
   "execution_count": 16,
   "id": "9fa6b624-50ee-41f5-9088-633281491bae",
   "metadata": {},
   "outputs": [],
   "source": [
    "lr_pred = lr_model.predict(X_test)"
   ]
  },
  {
   "cell_type": "code",
   "execution_count": 17,
   "id": "b1210180-c486-4858-aa06-e0b6ffa16f18",
   "metadata": {},
   "outputs": [
    {
     "name": "stdout",
     "output_type": "stream",
     "text": [
      "Mean absolute error: 6.56\n",
      "Mean squared error:71.58\n",
      "Root mean squared error: 8.46\n",
      "R2 score: 0.58\n"
     ]
    }
   ],
   "source": [
    "from sklearn import metrics\n",
    "from sklearn.metrics import mean_absolute_error, mean_squared_error, r2_score, classification_report\n",
    "\n",
    "print(f'Mean absolute error: {mean_absolute_error(y_test, lr_pred):.2f}')\n",
    "print(f'Mean squared error:{mean_squared_error(y_test, lr_pred):.2f}')\n",
    "print(f'Root mean squared error: {np.sqrt(mean_squared_error(y_test, lr_pred)):.2f}')\n",
    "print(f'R2 score: {r2_score(y_test, lr_pred):.2f}')"
   ]
  },
  {
   "cell_type": "markdown",
   "id": "da3242b7-50f3-41bf-8eb8-98bb31f578ef",
   "metadata": {},
   "source": [
    "* **2.Apply PCA on the dataset and select the first three principal components. Split the dataset into train and test using the same method used in Q1. Compare the performance of this model with the performance obtained in Q1.  Explain the outcome.**"
   ]
  },
  {
   "cell_type": "code",
   "execution_count": 18,
   "id": "01540680-2251-4207-a7f3-09c7f88b365c",
   "metadata": {},
   "outputs": [],
   "source": [
    "from sklearn.decomposition import PCA"
   ]
  },
  {
   "cell_type": "code",
   "execution_count": 19,
   "id": "4f5a2526-a8bf-4c46-9b46-1c32cb7466cf",
   "metadata": {},
   "outputs": [],
   "source": [
    "pca = PCA(n_components=3)"
   ]
  },
  {
   "cell_type": "code",
   "execution_count": 20,
   "id": "cd03b0b3-292e-4807-b57a-d42e3d9fb8ab",
   "metadata": {},
   "outputs": [],
   "source": [
    "#train the model after implementing PCA\n",
    "X_train_PCA = pca.fit_transform(X_train)\n",
    "X_test_PCA = pca.transform(X_test)\n",
    "lm = LinearRegression()\n",
    "lm.fit(X_train_PCA, y_train)\n",
    "y_PCA_pred = lm.predict(X_test_PCA)"
   ]
  },
  {
   "cell_type": "code",
   "execution_count": 21,
   "id": "45565f48-747e-4b90-852a-e28632498d23",
   "metadata": {},
   "outputs": [
    {
     "name": "stdout",
     "output_type": "stream",
     "text": [
      "[99.1010104906357, 0.8905803130362797, 0.008063017235087759, 0.00034126691072898513, 4.901063393515153e-06, 6.399684720224462e-09, 4.719125410964692e-09]\n",
      "The first 3 components would contribute 100.0% of the dataset\n"
     ]
    }
   ],
   "source": [
    "#Let's see how those 3 components contribute to the whole set\n",
    "cov_matrix = np.cov(X.T)\n",
    "\n",
    "eigenvalues, eigenvectors = eig(cov_matrix)\n",
    "total_values = sum(eigenvalues)\n",
    "var_percentage = [(e/total_values)*100 for e in sorted(eigenvalues, reverse=True)]\n",
    "print(var_percentage)\n",
    "\n",
    "percentage_3_components = 0\n",
    "for i in range(3):\n",
    "    percentage_3_components += round(var_percentage[i],2)\n",
    "print('The first 3 components would contribute {}% of the dataset'.format(percentage_3_components ))"
   ]
  },
  {
   "cell_type": "code",
   "execution_count": 22,
   "id": "66c6af46-30ee-40ec-976f-a79b6cb825d0",
   "metadata": {},
   "outputs": [
    {
     "name": "stdout",
     "output_type": "stream",
     "text": [
      "Mean absolute error: 7.21\n",
      "Mean squared error:92.03\n",
      "Root mean squared error: 9.59\n",
      "R2 score: 0.46\n"
     ]
    }
   ],
   "source": [
    "#Get metric scores\n",
    "print(f'Mean absolute error: {mean_absolute_error(y_test, y_PCA_pred):.2f}')\n",
    "print(f'Mean squared error:{mean_squared_error(y_test, y_PCA_pred):.2f}')\n",
    "print(f'Root mean squared error: {np.sqrt(mean_squared_error(y_test, y_PCA_pred)):.2f}')\n",
    "print(f'R2 score: {r2_score(y_test, y_PCA_pred):.2f}')"
   ]
  },
  {
   "cell_type": "markdown",
   "id": "b204ae7e-0c67-468a-bf99-14042b2cbcf1",
   "metadata": {},
   "source": [
    "As we can see that the errors after doing PCA are greater than not applying. This could be because the collinearity was lost during the dimnensional reduction."
   ]
  },
  {
   "cell_type": "markdown",
   "id": "fd16c16a-5f0e-427a-a950-1b7315065f49",
   "metadata": {},
   "source": [
    "* **3.Load \"IRIS \" datasets from SKlearn and follow this link for the data description (features and target variable). Apply PCA on the dataset and select the first three principal components. Split the dataset in train and test set (use your choice of splitting). Train a logistic regression model and report the performance (use your choice of at least 4 performance metric)**"
   ]
  },
  {
   "cell_type": "code",
   "execution_count": 23,
   "id": "25c30ffb-45d1-4620-8b59-d77f1db35c04",
   "metadata": {},
   "outputs": [],
   "source": [
    "from sklearn import datasets\n",
    "from sklearn.preprocessing import StandardScaler\n",
    "from sklearn.metrics import classification_report"
   ]
  },
  {
   "cell_type": "code",
   "execution_count": 24,
   "id": "e02d73b9-edd5-41e5-8dab-632c44c492a1",
   "metadata": {},
   "outputs": [],
   "source": [
    "iris_dataset = datasets.load_iris()"
   ]
  },
  {
   "cell_type": "code",
   "execution_count": 25,
   "id": "77659d5c-fa1e-4ba9-98f9-067cf3d1bb23",
   "metadata": {},
   "outputs": [],
   "source": [
    "X_iris = iris_dataset.data\n",
    "y_iris = iris_dataset.target"
   ]
  },
  {
   "cell_type": "code",
   "execution_count": 26,
   "id": "d5e26669-5fcc-41fc-b7a2-b17c5e4c76b5",
   "metadata": {},
   "outputs": [],
   "source": [
    "scaler = StandardScaler()\n",
    "X_iris = scaler.fit_transform(X_iris)"
   ]
  },
  {
   "cell_type": "code",
   "execution_count": 27,
   "id": "bc8a2918-efbf-4339-a5c7-79004a7ea2d1",
   "metadata": {},
   "outputs": [],
   "source": [
    "X_iris_train, X_iris_test, y_iris_train, y_iris_test = train_test_split(X_iris, y_iris, test_size=0.3, random_state=101)"
   ]
  },
  {
   "cell_type": "markdown",
   "id": "a85674e1-5d3f-43a1-b0de-6576b6eae6b5",
   "metadata": {},
   "source": [
    "* *Training the model without PCA*"
   ]
  },
  {
   "cell_type": "code",
   "execution_count": 28,
   "id": "cf4facfc-25ee-4669-a767-6e46af0d1f9b",
   "metadata": {},
   "outputs": [],
   "source": [
    "from sklearn.linear_model import LogisticRegression"
   ]
  },
  {
   "cell_type": "code",
   "execution_count": 29,
   "id": "2d394b5e-1844-45ef-8ecb-4a9bb760ed3c",
   "metadata": {},
   "outputs": [],
   "source": [
    "lgr = LogisticRegression()"
   ]
  },
  {
   "cell_type": "code",
   "execution_count": 30,
   "id": "bd61c590-0b06-46df-8165-0b656ecdec80",
   "metadata": {},
   "outputs": [
    {
     "data": {
      "text/html": [
       "<style>#sk-container-id-2 {color: black;background-color: white;}#sk-container-id-2 pre{padding: 0;}#sk-container-id-2 div.sk-toggleable {background-color: white;}#sk-container-id-2 label.sk-toggleable__label {cursor: pointer;display: block;width: 100%;margin-bottom: 0;padding: 0.3em;box-sizing: border-box;text-align: center;}#sk-container-id-2 label.sk-toggleable__label-arrow:before {content: \"▸\";float: left;margin-right: 0.25em;color: #696969;}#sk-container-id-2 label.sk-toggleable__label-arrow:hover:before {color: black;}#sk-container-id-2 div.sk-estimator:hover label.sk-toggleable__label-arrow:before {color: black;}#sk-container-id-2 div.sk-toggleable__content {max-height: 0;max-width: 0;overflow: hidden;text-align: left;background-color: #f0f8ff;}#sk-container-id-2 div.sk-toggleable__content pre {margin: 0.2em;color: black;border-radius: 0.25em;background-color: #f0f8ff;}#sk-container-id-2 input.sk-toggleable__control:checked~div.sk-toggleable__content {max-height: 200px;max-width: 100%;overflow: auto;}#sk-container-id-2 input.sk-toggleable__control:checked~label.sk-toggleable__label-arrow:before {content: \"▾\";}#sk-container-id-2 div.sk-estimator input.sk-toggleable__control:checked~label.sk-toggleable__label {background-color: #d4ebff;}#sk-container-id-2 div.sk-label input.sk-toggleable__control:checked~label.sk-toggleable__label {background-color: #d4ebff;}#sk-container-id-2 input.sk-hidden--visually {border: 0;clip: rect(1px 1px 1px 1px);clip: rect(1px, 1px, 1px, 1px);height: 1px;margin: -1px;overflow: hidden;padding: 0;position: absolute;width: 1px;}#sk-container-id-2 div.sk-estimator {font-family: monospace;background-color: #f0f8ff;border: 1px dotted black;border-radius: 0.25em;box-sizing: border-box;margin-bottom: 0.5em;}#sk-container-id-2 div.sk-estimator:hover {background-color: #d4ebff;}#sk-container-id-2 div.sk-parallel-item::after {content: \"\";width: 100%;border-bottom: 1px solid gray;flex-grow: 1;}#sk-container-id-2 div.sk-label:hover label.sk-toggleable__label {background-color: #d4ebff;}#sk-container-id-2 div.sk-serial::before {content: \"\";position: absolute;border-left: 1px solid gray;box-sizing: border-box;top: 0;bottom: 0;left: 50%;z-index: 0;}#sk-container-id-2 div.sk-serial {display: flex;flex-direction: column;align-items: center;background-color: white;padding-right: 0.2em;padding-left: 0.2em;position: relative;}#sk-container-id-2 div.sk-item {position: relative;z-index: 1;}#sk-container-id-2 div.sk-parallel {display: flex;align-items: stretch;justify-content: center;background-color: white;position: relative;}#sk-container-id-2 div.sk-item::before, #sk-container-id-2 div.sk-parallel-item::before {content: \"\";position: absolute;border-left: 1px solid gray;box-sizing: border-box;top: 0;bottom: 0;left: 50%;z-index: -1;}#sk-container-id-2 div.sk-parallel-item {display: flex;flex-direction: column;z-index: 1;position: relative;background-color: white;}#sk-container-id-2 div.sk-parallel-item:first-child::after {align-self: flex-end;width: 50%;}#sk-container-id-2 div.sk-parallel-item:last-child::after {align-self: flex-start;width: 50%;}#sk-container-id-2 div.sk-parallel-item:only-child::after {width: 0;}#sk-container-id-2 div.sk-dashed-wrapped {border: 1px dashed gray;margin: 0 0.4em 0.5em 0.4em;box-sizing: border-box;padding-bottom: 0.4em;background-color: white;}#sk-container-id-2 div.sk-label label {font-family: monospace;font-weight: bold;display: inline-block;line-height: 1.2em;}#sk-container-id-2 div.sk-label-container {text-align: center;}#sk-container-id-2 div.sk-container {/* jupyter's `normalize.less` sets `[hidden] { display: none; }` but bootstrap.min.css set `[hidden] { display: none !important; }` so we also need the `!important` here to be able to override the default hidden behavior on the sphinx rendered scikit-learn.org. See: https://github.com/scikit-learn/scikit-learn/issues/21755 */display: inline-block !important;position: relative;}#sk-container-id-2 div.sk-text-repr-fallback {display: none;}</style><div id=\"sk-container-id-2\" class=\"sk-top-container\"><div class=\"sk-text-repr-fallback\"><pre>LogisticRegression()</pre><b>In a Jupyter environment, please rerun this cell to show the HTML representation or trust the notebook. <br />On GitHub, the HTML representation is unable to render, please try loading this page with nbviewer.org.</b></div><div class=\"sk-container\" hidden><div class=\"sk-item\"><div class=\"sk-estimator sk-toggleable\"><input class=\"sk-toggleable__control sk-hidden--visually\" id=\"sk-estimator-id-2\" type=\"checkbox\" checked><label for=\"sk-estimator-id-2\" class=\"sk-toggleable__label sk-toggleable__label-arrow\">LogisticRegression</label><div class=\"sk-toggleable__content\"><pre>LogisticRegression()</pre></div></div></div></div></div>"
      ],
      "text/plain": [
       "LogisticRegression()"
      ]
     },
     "execution_count": 30,
     "metadata": {},
     "output_type": "execute_result"
    }
   ],
   "source": [
    "lgr.fit(X_iris_train, y_iris_train)"
   ]
  },
  {
   "cell_type": "code",
   "execution_count": 31,
   "id": "b4465f9f-7f49-4a86-95fb-fe2724c69a2d",
   "metadata": {},
   "outputs": [],
   "source": [
    "lgr_predict = lgr.predict(X_iris_test)"
   ]
  },
  {
   "cell_type": "code",
   "execution_count": 32,
   "id": "0e8d715c-2b88-4f64-9587-9cd83ff03dac",
   "metadata": {},
   "outputs": [
    {
     "name": "stdout",
     "output_type": "stream",
     "text": [
      "Classification report:               precision    recall  f1-score   support\n",
      "\n",
      "           0       1.00      1.00      1.00        13\n",
      "           1       0.95      0.95      0.95        20\n",
      "           2       0.92      0.92      0.92        12\n",
      "\n",
      "    accuracy                           0.96        45\n",
      "   macro avg       0.96      0.96      0.96        45\n",
      "weighted avg       0.96      0.96      0.96        45\n",
      "\n"
     ]
    }
   ],
   "source": [
    "print(f'Classification report: {classification_report(y_iris_test, lgr_predict)}')"
   ]
  },
  {
   "cell_type": "markdown",
   "id": "8099e6cd-e41d-4b26-a01c-0e77080d1c8c",
   "metadata": {},
   "source": [
    "* *Training the model after implementing PCA*"
   ]
  },
  {
   "cell_type": "code",
   "execution_count": 33,
   "id": "f0c49420-14a9-4010-b94d-e6b6bbcee2bb",
   "metadata": {},
   "outputs": [],
   "source": [
    "pca = PCA(n_components=3)"
   ]
  },
  {
   "cell_type": "code",
   "execution_count": 34,
   "id": "e66ec004-ce58-40ab-87be-19a7ea4b83f8",
   "metadata": {},
   "outputs": [],
   "source": [
    "X_PCA = pca.fit_transform(X_iris)"
   ]
  },
  {
   "cell_type": "code",
   "execution_count": 35,
   "id": "b26ac201-5ef0-4881-872c-4f0495b45e67",
   "metadata": {},
   "outputs": [],
   "source": [
    "X_iris_PCA_train, X_iris_PCA_test, y_iris_PCA_train, y_iris_PCA_test = train_test_split(X_PCA, y_iris, test_size=0.3, random_state=101)\n",
    "lgr_PCA = LogisticRegression()\n",
    "lgr_PCA.fit(X_iris_PCA_train, y_iris_PCA_train)\n",
    "y_iris_PCA_pred = lgr_PCA.predict(X_iris_PCA_test)"
   ]
  },
  {
   "cell_type": "code",
   "execution_count": 36,
   "id": "722104ed-b094-42c4-a555-68fe0a53a7bc",
   "metadata": {},
   "outputs": [
    {
     "name": "stdout",
     "output_type": "stream",
     "text": [
      "Classification report:               precision    recall  f1-score   support\n",
      "\n",
      "           0       1.00      1.00      1.00        13\n",
      "           1       1.00      0.95      0.97        20\n",
      "           2       0.92      1.00      0.96        12\n",
      "\n",
      "    accuracy                           0.98        45\n",
      "   macro avg       0.97      0.98      0.98        45\n",
      "weighted avg       0.98      0.98      0.98        45\n",
      "\n"
     ]
    }
   ],
   "source": [
    "print(f'Classification report: {classification_report(y_iris_test, y_iris_PCA_pred)}')"
   ]
  },
  {
   "cell_type": "markdown",
   "id": "393dbf0c-6d96-4aad-a482-49da3a897706",
   "metadata": {},
   "source": [
    "* **4. Apply L1 or L2 regulariser on the logistic regression model developed using the same train and test data used in Q3 and calculate performance of the new model. Compare performance of this model with the performance reported in Q3. Explain the outcome**"
   ]
  },
  {
   "cell_type": "code",
   "execution_count": 37,
   "id": "b79b915a-e4b2-4796-8f23-4ff2d46e66d9",
   "metadata": {},
   "outputs": [
    {
     "name": "stdout",
     "output_type": "stream",
     "text": [
      "Linear Regression-Training set score: 0.97\n",
      "Linear Regression-Test set score: 0.96\n"
     ]
    }
   ],
   "source": [
    "#Get the scores of the training and test set of linear regression\n",
    "print(f\"Linear Regression-Training set score: {lgr.score(X_iris_train, y_iris_train):.2f}\")\n",
    "print(f\"Linear Regression-Test set score: {lgr.score(X_iris_test, y_iris_test):.2f}\")"
   ]
  },
  {
   "cell_type": "code",
   "execution_count": 55,
   "id": "fd0f4122-47ea-4d9d-8c01-89fa465e1949",
   "metadata": {},
   "outputs": [
    {
     "name": "stdout",
     "output_type": "stream",
     "text": [
      "0.1 : 15.98775363515023\n",
      "0.2 : 15.992832918654104\n",
      "0.30000000000000004 : 15.997307640793862\n",
      "0.4 : 16.001236268097912\n",
      "0.5 : 16.004669810651244\n",
      "0.6000000000000001 : 16.00765298816279\n",
      "0.7000000000000001 : 16.010225183868876\n",
      "0.8 : 16.012421229849682\n",
      "0.9 : 16.014272057430173\n",
      "1.0 : 16.015805238887804\n",
      "1.1 : 16.01704544103893\n",
      "1.2000000000000002 : 16.01801480695582\n",
      "1.3 : 16.01873327873785\n",
      "1.4000000000000001 : 16.019218871677918\n",
      "1.5 : 16.019487908147518\n",
      "1.6 : 16.019555217937633\n",
      "1.7000000000000002 : 16.0194343105376\n",
      "1.8 : 16.01913752383547\n",
      "1.9000000000000001 : 16.01867615292471\n"
     ]
    }
   ],
   "source": [
    "#Get the scores of training and test set from L2 regularization\n",
    "from sklearn.model_selection import train_test_split, cross_val_score\n",
    "from sklearn.linear_model import LinearRegression, Ridge, Lasso\n",
    "\n",
    "alpha = []\n",
    "ridge_score = []\n",
    "\n",
    "#find the suitable alpha for Ridge formula\n",
    "for i in range(1, 20):\n",
    "    ridge_model = Ridge(alpha = i * 0.1)\n",
    "    ridge_model.fit(X_iris_train, y_iris_train)\n",
    "    scores = cross_val_score(ridge_model, X_iris, y_iris, cv = 10)\n",
    "    avg_score = np.mean(scores)*100\n",
    "    ridge_score.append(avg_score)\n",
    "    alpha.append(i * 0.1)\n",
    "    \n",
    "for i in range(0, len(alpha)):\n",
    "    print(str(alpha[i])+' : '+str(ridge_score[i]))"
   ]
  },
  {
   "cell_type": "markdown",
   "id": "506b556f-60b9-4471-b4df-9ba917cb2c4e",
   "metadata": {},
   "source": [
    "It looks like that alpha=1.6 returns the highest score."
   ]
  },
  {
   "cell_type": "code",
   "execution_count": 57,
   "id": "5d339916-a2e5-4f70-a30e-9863210cc353",
   "metadata": {},
   "outputs": [
    {
     "name": "stdout",
     "output_type": "stream",
     "text": [
      "Ridge Regression-Training set score: 0.94\n",
      "Ridge Regression-Test set score: 0.90\n"
     ]
    }
   ],
   "source": [
    "ridge = Ridge(alpha=1.6).fit(X_iris_train, y_iris_train)\n",
    "print(f\"Ridge Regression-Training set score: {ridge.score(X_iris_train, y_iris_train):.2f}\")\n",
    "print(f\"Ridge Regression-Test set score: {ridge.score(X_iris_test, y_iris_test):.2f}\")"
   ]
  },
  {
   "cell_type": "code",
   "execution_count": 62,
   "id": "f7ce0a73-d888-49f3-b552-63e08f24e332",
   "metadata": {},
   "outputs": [
    {
     "name": "stdout",
     "output_type": "stream",
     "text": [
      "0.1 : 15.238024702993075\n",
      "0.2 : 14.501493748671296\n",
      "0.30000000000000004 : 12.918036680481556\n",
      "0.4 : 10.257741553964566\n",
      "0.5 : 6.585704626068341\n",
      "0.6000000000000001 : 1.842939042722297\n",
      "0.7000000000000001 : -4.011659034536805\n",
      "0.8 : -10.81629335384771\n",
      "0.9 : 7.654320987654314\n",
      "1.0 : 7.654320987654314\n",
      "1.1 : 7.654320987654314\n",
      "1.2000000000000002 : 7.654320987654314\n",
      "1.3 : 7.654320987654314\n",
      "1.4000000000000001 : 7.654320987654314\n",
      "1.5 : 7.654320987654314\n",
      "1.6 : 7.654320987654314\n",
      "1.7000000000000002 : 7.654320987654314\n",
      "1.8 : 7.654320987654314\n",
      "1.9000000000000001 : 7.654320987654314\n"
     ]
    }
   ],
   "source": [
    "#find the suitable lambda for lasso regularisation\n",
    "lasso_score = []\n",
    "Lambda = []\n",
    " \n",
    "for i in range(1, 20):\n",
    "    lasso_model = Lasso(alpha = i * 0.1, tol = 0.0925)\n",
    "    lasso_model.fit(X_iris_train, y_iris_train)\n",
    "    scores = cross_val_score(lasso_model, X_iris, y_iris, cv = 10)\n",
    "    avg_score = np.mean(scores)*100\n",
    "    lasso_score.append(avg_score)\n",
    "    Lambda.append(i * 0.1)\n",
    "\n",
    "for i in range(0, len(Lambda)):\n",
    "    print(str(Lambda[i])+' : '+str(lasso_score[i]))"
   ]
  },
  {
   "cell_type": "markdown",
   "id": "3e8d6bed-53a4-4dcb-bff1-3d0ea893c7d4",
   "metadata": {},
   "source": [
    "It looks like that alpha=0.1 returns the highest score."
   ]
  },
  {
   "cell_type": "code",
   "execution_count": 65,
   "id": "5196f1d8-0c99-451e-85e0-c730bd54d1c1",
   "metadata": {},
   "outputs": [
    {
     "name": "stdout",
     "output_type": "stream",
     "text": [
      "Lasso Regression-Training set score: 0.92\n",
      "Lasso Regression-Test set score: 0.89\n"
     ]
    }
   ],
   "source": [
    "#Get the scores of training and test set from L1 regularization\n",
    "from sklearn.linear_model import Lasso\n",
    "lasso = Lasso(alpha=0.1).fit(X_iris_train, y_iris_train)\n",
    "print(f\"Lasso Regression-Training set score: {lasso.score(X_iris_train, y_iris_train):.2f}\")\n",
    "print(f\"Lasso Regression-Test set score: {lasso.score(X_iris_test, y_iris_test):.2f}\")"
   ]
  },
  {
   "cell_type": "markdown",
   "id": "ded6d233-6148-47ac-82b2-68da7bd94473",
   "metadata": {},
   "source": [
    "The weight of lambda is still a bit too much. Let's try smaller lambda"
   ]
  },
  {
   "cell_type": "code",
   "execution_count": 68,
   "id": "941973dc-b01a-40a8-b248-2d0a4192fcc3",
   "metadata": {},
   "outputs": [
    {
     "name": "stdout",
     "output_type": "stream",
     "text": [
      "Lasso Regression-Training set score: 0.94\n",
      "Lasso Regression-Test set score: 0.90\n"
     ]
    }
   ],
   "source": [
    "from sklearn.linear_model import Lasso\n",
    "lasso = Lasso(alpha=0.01).fit(X_iris_train, y_iris_train)\n",
    "print(f\"Lasso Regression-Training set score: {lasso.score(X_iris_train, y_iris_train):.2f}\")\n",
    "print(f\"Lasso Regression-Test set score: {lasso.score(X_iris_test, y_iris_test):.2f}\")"
   ]
  },
  {
   "cell_type": "markdown",
   "id": "a268c2f2-e690-4aa6-bc58-94a3b812f758",
   "metadata": {},
   "source": [
    "As we can see that, in this case both scores from L1 and L2 regularization are lower than linear regression. This could be because the iris dataset is pretty small and regularization may affect the training."
   ]
  }
 ],
 "metadata": {
  "kernelspec": {
   "display_name": "Python 3 (ipykernel)",
   "language": "python",
   "name": "python3"
  },
  "language_info": {
   "codemirror_mode": {
    "name": "ipython",
    "version": 3
   },
   "file_extension": ".py",
   "mimetype": "text/x-python",
   "name": "python",
   "nbconvert_exporter": "python",
   "pygments_lexer": "ipython3",
   "version": "3.10.1"
  }
 },
 "nbformat": 4,
 "nbformat_minor": 5
}
