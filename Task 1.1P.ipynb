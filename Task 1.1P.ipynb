{
 "cells": [
  {
   "cell_type": "code",
   "execution_count": 1,
   "id": "8d62c253",
   "metadata": {},
   "outputs": [
    {
     "name": "stdout",
     "output_type": "stream",
     "text": [
      "Ph  n\n"
     ]
    }
   ],
   "source": [
    "#Define a string with a value equal to “Python is fun!”. Print every third character of this string\n",
    "s = 'Python is fun!'\n",
    "print(s[::3])"
   ]
  },
  {
   "cell_type": "code",
   "execution_count": 24,
   "id": "7b43491d",
   "metadata": {},
   "outputs": [
    {
     "name": "stdout",
     "output_type": "stream",
     "text": [
      "Student Names:  ['Martin Lacroix', 'Jack Tan', 'Alex Moss', 'Kate Oldman', 'Ella Lacroix']\n",
      "ID:  [376887, 586579, 173876, 509469, 946356]\n",
      "Email:  ['martin.lacroix@deakin.edu.au', 'jack.tan@deakin.edu.au', 'alex.moss@deakin.edu.au', 'kate.oldman@deakin.edu.au', 'ella.lacroix@deakin.edu.au']\n"
     ]
    }
   ],
   "source": [
    "#Create three list variables named 'StudentName', 'ID', and 'EmailAddress'. \n",
    "\n",
    "StudentNames = []\n",
    "ID = []\n",
    "EmailAddress = []\n",
    "\n",
    "#Add 5 random values in these lists and print them.\n",
    "import random\n",
    "from random import randint\n",
    "\n",
    "first_names = ['Alex', 'Martin', 'David', 'Jennifer', 'Kate', 'Joe', 'Josh', 'Peter', 'Jack', 'Ella', 'Lily']\n",
    "last_names = ['Smith', 'Oldman', 'Lawrence','Tan','Lacroix', 'Ng', 'Nguyen', 'Bryan', 'Moss']\n",
    "\n",
    "\n",
    "\n",
    "for i in range(5):\n",
    "    StudentNames.append(random.sample(first_names, 1)[0] + ' ' + random.sample(last_names , 1)[0])\n",
    "    \n",
    "for i in range(5):\n",
    "    EmailAddress.append(StudentNames[i].replace(' ', '.').lower() + '@deakin.edu.au')\n",
    "    \n",
    "for i in range(5):\n",
    "    ID.append(randint(100000, 999999))\n",
    "\n",
    "    \n",
    "print('Student Names: ', StudentNames)\n",
    "print('ID: ', ID)\n",
    "print('Email: ',EmailAddress)"
   ]
  },
  {
   "cell_type": "code",
   "execution_count": 25,
   "id": "d28adb63",
   "metadata": {},
   "outputs": [
    {
     "data": {
      "text/plain": [
       "{'StudentNames': ['Martin Lacroix',\n",
       "  'Jack Tan',\n",
       "  'Alex Moss',\n",
       "  'Kate Oldman',\n",
       "  'Ella Lacroix'],\n",
       " 'ID': [376887, 586579, 173876, 509469, 946356],\n",
       " 'EmailAddress': ['martin.lacroix@deakin.edu.au',\n",
       "  'jack.tan@deakin.edu.au',\n",
       "  'alex.moss@deakin.edu.au',\n",
       "  'kate.oldman@deakin.edu.au',\n",
       "  'ella.lacroix@deakin.edu.au']}"
      ]
     },
     "execution_count": 25,
     "metadata": {},
     "output_type": "execute_result"
    }
   ],
   "source": [
    "#Create a dictionary variable with three keys, which are named same as the list created in the previous problem.\n",
    "#Insert the previously created lists in the dictionary variable and print it.\n",
    "\n",
    "data = {'StudentNames': StudentNames,\n",
    "       'ID': ID,\n",
    "       'EmailAddress': EmailAddress }\n",
    "data"
   ]
  },
  {
   "cell_type": "code",
   "execution_count": 40,
   "id": "fff8bded",
   "metadata": {},
   "outputs": [
    {
     "name": "stdout",
     "output_type": "stream",
     "text": [
      "Apple\n"
     ]
    }
   ],
   "source": [
    "#Define a numeric variable 'energy' and assign value either 1 or 2.\n",
    "energy = randint(1, 10)\n",
    "\n",
    "#Print \"Apple\" if the value of energy variable is 1 otherwise print \"Banana\".\n",
    "def printS (energy):\n",
    "    if energy == 1:\n",
    "        print('Apple')\n",
    "    elif energy==2:\n",
    "        print('Banana')\n",
    "    else:\n",
    "        print ('Energy not valid')\n",
    "printS(energy)"
   ]
  },
  {
   "cell_type": "markdown",
   "id": "5f645954",
   "metadata": {},
   "source": [
    "* **What will your program print if energy=10**"
   ]
  },
  {
   "cell_type": "markdown",
   "id": "3b5a2056",
   "metadata": {},
   "source": [
    "If the energy is 10, the function will print an exception"
   ]
  },
  {
   "cell_type": "code",
   "execution_count": 23,
   "id": "6dc607c5",
   "metadata": {},
   "outputs": [
    {
     "name": "stdout",
     "output_type": "stream",
     "text": [
      "0\n",
      "5\n",
      "10\n",
      "15\n",
      "20\n",
      "25\n",
      "30\n",
      "35\n",
      "40\n",
      "45\n",
      "50\n",
      "55\n",
      "60\n",
      "65\n",
      "70\n",
      "75\n",
      "80\n",
      "85\n",
      "90\n",
      "95\n",
      "100\n",
      "105\n",
      "110\n",
      "115\n",
      "120\n",
      "125\n",
      "130\n",
      "135\n",
      "140\n",
      "145\n",
      "150\n",
      "155\n",
      "160\n",
      "165\n",
      "170\n",
      "175\n",
      "180\n",
      "185\n",
      "190\n",
      "195\n",
      "200\n",
      "205\n",
      "210\n",
      "215\n",
      "220\n",
      "225\n",
      "230\n",
      "235\n",
      "240\n",
      "245\n",
      "250\n",
      "255\n",
      "260\n",
      "265\n",
      "270\n",
      "275\n",
      "280\n",
      "285\n",
      "290\n",
      "295\n",
      "300\n",
      "305\n",
      "310\n",
      "315\n",
      "320\n",
      "325\n",
      "330\n",
      "335\n",
      "340\n",
      "345\n",
      "350\n",
      "355\n",
      "360\n",
      "365\n",
      "370\n",
      "375\n",
      "380\n",
      "385\n",
      "390\n",
      "395\n",
      "400\n",
      "405\n",
      "410\n",
      "415\n",
      "420\n",
      "425\n",
      "430\n",
      "435\n",
      "440\n",
      "445\n",
      "450\n",
      "455\n",
      "460\n",
      "465\n",
      "470\n",
      "475\n",
      "480\n",
      "485\n",
      "490\n",
      "495\n",
      "500\n",
      "505\n",
      "510\n",
      "515\n",
      "520\n",
      "525\n",
      "530\n",
      "535\n",
      "540\n",
      "545\n",
      "550\n",
      "555\n",
      "560\n",
      "565\n",
      "570\n",
      "575\n",
      "580\n",
      "585\n",
      "590\n",
      "595\n",
      "600\n",
      "605\n",
      "610\n",
      "615\n",
      "620\n",
      "625\n",
      "630\n",
      "635\n",
      "640\n",
      "645\n",
      "650\n",
      "655\n",
      "660\n",
      "665\n",
      "670\n",
      "675\n",
      "680\n",
      "685\n",
      "690\n",
      "695\n",
      "700\n",
      "705\n",
      "710\n",
      "715\n",
      "720\n",
      "725\n",
      "730\n",
      "735\n",
      "740\n",
      "745\n",
      "750\n",
      "755\n",
      "760\n",
      "765\n",
      "770\n",
      "775\n",
      "780\n",
      "785\n",
      "790\n",
      "795\n",
      "800\n",
      "805\n",
      "810\n",
      "815\n",
      "820\n",
      "825\n",
      "830\n",
      "835\n",
      "840\n",
      "845\n",
      "850\n",
      "855\n",
      "860\n",
      "865\n",
      "870\n",
      "875\n",
      "880\n",
      "885\n",
      "890\n",
      "895\n",
      "900\n",
      "905\n",
      "910\n",
      "915\n",
      "920\n",
      "925\n",
      "930\n",
      "935\n",
      "940\n",
      "945\n",
      "950\n",
      "955\n",
      "960\n",
      "965\n",
      "970\n",
      "975\n",
      "980\n",
      "985\n",
      "990\n",
      "995\n",
      "1000\n",
      "1005\n",
      "1010\n",
      "1015\n",
      "1020\n",
      "1025\n",
      "1030\n",
      "1035\n",
      "1040\n",
      "1045\n",
      "1050\n",
      "1055\n",
      "1060\n",
      "1065\n",
      "1070\n",
      "1075\n",
      "1080\n",
      "1085\n",
      "1090\n",
      "1095\n",
      "1100\n",
      "1105\n",
      "1110\n",
      "1115\n",
      "1120\n",
      "1125\n",
      "1130\n",
      "1135\n",
      "1140\n",
      "1145\n",
      "1150\n",
      "1155\n",
      "1160\n",
      "1165\n",
      "1170\n",
      "1175\n",
      "1180\n",
      "1185\n",
      "1190\n",
      "1195\n",
      "1200\n",
      "1205\n",
      "1210\n",
      "1215\n",
      "1220\n",
      "1225\n",
      "1230\n",
      "1235\n",
      "1240\n",
      "1245\n",
      "1250\n",
      "1255\n",
      "1260\n",
      "1265\n",
      "1270\n",
      "1275\n",
      "1280\n",
      "1285\n",
      "1290\n",
      "1295\n",
      "1300\n",
      "1305\n",
      "1310\n",
      "1315\n",
      "1320\n",
      "1325\n",
      "1330\n",
      "1335\n",
      "1340\n",
      "1345\n",
      "1350\n",
      "1355\n",
      "1360\n",
      "1365\n",
      "1370\n",
      "1375\n",
      "1380\n",
      "1385\n",
      "1390\n",
      "1395\n",
      "1400\n",
      "1405\n",
      "1410\n",
      "1415\n",
      "1420\n",
      "1425\n",
      "1430\n",
      "1435\n",
      "1440\n",
      "1445\n",
      "1450\n",
      "1455\n",
      "1460\n",
      "1465\n",
      "1470\n",
      "1475\n",
      "1480\n",
      "1485\n",
      "1490\n",
      "1495\n",
      "1500\n",
      "1505\n",
      "1510\n",
      "1515\n",
      "1520\n",
      "1525\n",
      "1530\n",
      "1535\n",
      "1540\n",
      "1545\n",
      "1550\n",
      "1555\n",
      "1560\n",
      "1565\n",
      "1570\n",
      "1575\n",
      "1580\n",
      "1585\n",
      "1590\n",
      "1595\n",
      "1600\n",
      "1605\n",
      "1610\n",
      "1615\n",
      "1620\n",
      "1625\n",
      "1630\n",
      "1635\n",
      "1640\n",
      "1645\n",
      "1650\n",
      "1655\n",
      "1660\n",
      "1665\n",
      "1670\n",
      "1675\n",
      "1680\n",
      "1685\n",
      "1690\n",
      "1695\n",
      "1700\n",
      "1705\n",
      "1710\n",
      "1715\n",
      "1720\n",
      "1725\n",
      "1730\n",
      "1735\n",
      "1740\n",
      "1745\n",
      "1750\n",
      "1755\n",
      "1760\n",
      "1765\n",
      "1770\n",
      "1775\n",
      "1780\n",
      "1785\n",
      "1790\n",
      "1795\n",
      "1800\n",
      "1805\n",
      "1810\n",
      "1815\n",
      "1820\n",
      "1825\n",
      "1830\n",
      "1835\n",
      "1840\n",
      "1845\n",
      "1850\n",
      "1855\n",
      "1860\n",
      "1865\n",
      "1870\n",
      "1875\n",
      "1880\n",
      "1885\n",
      "1890\n",
      "1895\n",
      "1900\n",
      "1905\n",
      "1910\n",
      "1915\n",
      "1920\n",
      "1925\n",
      "1930\n",
      "1935\n",
      "1940\n",
      "1945\n",
      "1950\n",
      "1955\n",
      "1960\n",
      "1965\n",
      "1970\n",
      "1975\n",
      "1980\n",
      "1985\n",
      "1990\n",
      "1995\n",
      "2000\n"
     ]
    }
   ],
   "source": [
    "#Print numbers between 0 and 2000 separated by line, which are divisible by 5.\n",
    "for i in range(0,2001):\n",
    "    if i%5 == 0:\n",
    "        print(i)"
   ]
  },
  {
   "cell_type": "markdown",
   "id": "a7ff9532",
   "metadata": {},
   "source": [
    "* **Is it possible to break a loop before executing for the defined number of iterations?**\n"
   ]
  },
  {
   "cell_type": "markdown",
   "id": "1ccbad7a",
   "metadata": {},
   "source": [
    "Yes, it is"
   ]
  },
  {
   "cell_type": "markdown",
   "id": "958a3bb9",
   "metadata": {},
   "source": [
    "* **If yes, provide an example using While loop structure.**\n",
    "\n"
   ]
  },
  {
   "cell_type": "code",
   "execution_count": 2,
   "id": "6316c1e8",
   "metadata": {},
   "outputs": [
    {
     "name": "stdout",
     "output_type": "stream",
     "text": [
      "0\n",
      "1\n",
      "2\n"
     ]
    }
   ],
   "source": [
    "for i in range (5):\n",
    "    if i == 3:\n",
    "        break\n",
    "    print(i)"
   ]
  },
  {
   "cell_type": "code",
   "execution_count": 48,
   "id": "12502e09",
   "metadata": {},
   "outputs": [
    {
     "name": "stdout",
     "output_type": "stream",
     "text": [
      "Add:  11\n",
      "Minus:  -3\n"
     ]
    }
   ],
   "source": [
    "#Create a function with two input parameters say (x, y) \n",
    "#and return output values by doing operations such as 'x+y' and 'x-y'. \n",
    "#Call the function with (4,7) and print the outputs.\n",
    "\n",
    "def function(x, y):\n",
    "    add = x + y\n",
    "    minus = x - y\n",
    "    print('Add: ', add)\n",
    "    print('Minus: ', minus)\n",
    "\n",
    "function(4,7)"
   ]
  },
  {
   "cell_type": "code",
   "execution_count": 50,
   "id": "f086b422",
   "metadata": {},
   "outputs": [
    {
     "data": {
      "text/plain": [
       "array([[0.90969895, 0.31772757, 0.61701597, 0.40082889],\n",
       "       [0.66985335, 0.72245896, 0.004404  , 0.36538185],\n",
       "       [0.97120133, 0.54997134, 0.39411593, 0.6880837 ]])"
      ]
     },
     "execution_count": 50,
     "metadata": {},
     "output_type": "execute_result"
    }
   ],
   "source": [
    "#Create and display a 3X3 Identity matrix and multiply it with a 3x4 Random matrix.\n",
    "\n",
    "import numpy as np\n",
    "\n",
    "iMatrix = np.identity(3, dtype = float)\n",
    "randMatrix = np.random.rand(3,4)\n",
    "\n",
    "result = np.dot(iMatrix,randMatrix)\n",
    "result"
   ]
  },
  {
   "cell_type": "code",
   "execution_count": 59,
   "id": "fd38f48e",
   "metadata": {},
   "outputs": [
    {
     "name": "stdout",
     "output_type": "stream",
     "text": [
      "Original Matrix: \n",
      " [[0.01348289 0.91401518]\n",
      " [0.5017694  0.97789634]\n",
      " [0.01195553 0.68604769]\n",
      " [0.54341081 0.52528136]\n",
      " [0.07519908 0.91969573]]\n",
      "Transposed Matrix: \n",
      " [[0.01348289 0.5017694  0.01195553 0.54341081 0.07519908]\n",
      " [0.91401518 0.97789634 0.68604769 0.52528136 0.91969573]]\n",
      "Original size:  (5, 2)\n",
      "Transpose size:  (2, 5)\n"
     ]
    },
    {
     "data": {
      "text/plain": [
       "(2, 5)"
      ]
     },
     "execution_count": 59,
     "metadata": {},
     "output_type": "execute_result"
    }
   ],
   "source": [
    "#Create a 5x2 matrix, initialise with random values and print it. \n",
    "#Now, transpose the matrix and print it. How the transposed matrix is different from original matrix? \n",
    "original_matrix = np.random.rand(5,2)\n",
    "print('Original Matrix: \\n',original_matrix)\n",
    "transpose_matrix = np.transpose(original_matrix)\n",
    "print('Transposed Matrix: \\n', transpose_matrix)\n",
    "\n",
    "print('Original size: ', np.shape(original_matrix))\n",
    "print('Transpose size: ', np.shape(transpose_matrix))"
   ]
  },
  {
   "cell_type": "markdown",
   "id": "cd301cc6",
   "metadata": {},
   "source": [
    "* **Read the data stored in the \"data.csv\" file as a matrix. The row of the matrix represents data point or instance and the column represents the variable or feature. Print the number of data instances and variables present in this dataset. Calculate mean of the second variable and deduct this mean from original values of the variable. Print both original and modified values of the variable.**"
   ]
  },
  {
   "cell_type": "code",
   "execution_count": 1,
   "id": "a3ce44b5",
   "metadata": {},
   "outputs": [],
   "source": [
    "import pandas as pd\n",
    "import numpy as np\n",
    "import seaborn as sns\n",
    "import matplotlib.pyplot as plt"
   ]
  },
  {
   "cell_type": "code",
   "execution_count": 8,
   "id": "f462d935",
   "metadata": {},
   "outputs": [],
   "source": [
    "df = pd.read_csv('data.csv', names=['feature1', 'feature2'], index_col=False)"
   ]
  },
  {
   "cell_type": "code",
   "execution_count": 15,
   "id": "3f3eddbc",
   "metadata": {},
   "outputs": [
    {
     "data": {
      "text/html": [
       "<div>\n",
       "<style scoped>\n",
       "    .dataframe tbody tr th:only-of-type {\n",
       "        vertical-align: middle;\n",
       "    }\n",
       "\n",
       "    .dataframe tbody tr th {\n",
       "        vertical-align: top;\n",
       "    }\n",
       "\n",
       "    .dataframe thead th {\n",
       "        text-align: right;\n",
       "    }\n",
       "</style>\n",
       "<table border=\"1\" class=\"dataframe\">\n",
       "  <thead>\n",
       "    <tr style=\"text-align: right;\">\n",
       "      <th></th>\n",
       "      <th>feature1</th>\n",
       "      <th>feature2</th>\n",
       "    </tr>\n",
       "  </thead>\n",
       "  <tbody>\n",
       "    <tr>\n",
       "      <th>0</th>\n",
       "      <td>3.3816</td>\n",
       "      <td>3.3891</td>\n",
       "    </tr>\n",
       "    <tr>\n",
       "      <th>1</th>\n",
       "      <td>4.5279</td>\n",
       "      <td>5.8542</td>\n",
       "    </tr>\n",
       "    <tr>\n",
       "      <th>2</th>\n",
       "      <td>2.6557</td>\n",
       "      <td>4.4120</td>\n",
       "    </tr>\n",
       "    <tr>\n",
       "      <th>3</th>\n",
       "      <td>2.7652</td>\n",
       "      <td>3.7154</td>\n",
       "    </tr>\n",
       "    <tr>\n",
       "      <th>4</th>\n",
       "      <td>2.8466</td>\n",
       "      <td>4.1755</td>\n",
       "    </tr>\n",
       "  </tbody>\n",
       "</table>\n",
       "</div>"
      ],
      "text/plain": [
       "   feature1  feature2\n",
       "0    3.3816    3.3891\n",
       "1    4.5279    5.8542\n",
       "2    2.6557    4.4120\n",
       "3    2.7652    3.7154\n",
       "4    2.8466    4.1755"
      ]
     },
     "execution_count": 15,
     "metadata": {},
     "output_type": "execute_result"
    }
   ],
   "source": [
    "df.head()"
   ]
  },
  {
   "cell_type": "code",
   "execution_count": 18,
   "id": "afa7191b",
   "metadata": {},
   "outputs": [
    {
     "data": {
      "text/plain": [
       "(50, 2)"
      ]
     },
     "execution_count": 18,
     "metadata": {},
     "output_type": "execute_result"
    }
   ],
   "source": [
    "df.shape"
   ]
  },
  {
   "cell_type": "markdown",
   "id": "c2c33106",
   "metadata": {},
   "source": [
    "*The data set has 50 rows and 2 columns*"
   ]
  },
  {
   "cell_type": "code",
   "execution_count": 12,
   "id": "2edaf4e1",
   "metadata": {},
   "outputs": [
    {
     "data": {
      "text/plain": [
       "5.002806"
      ]
     },
     "execution_count": 12,
     "metadata": {},
     "output_type": "execute_result"
    }
   ],
   "source": [
    "#Calculate the mean of the second variable\n",
    "mean = df['feature2'].mean()\n",
    "mean"
   ]
  },
  {
   "cell_type": "code",
   "execution_count": 19,
   "id": "3dad4aaf",
   "metadata": {},
   "outputs": [
    {
     "data": {
      "text/html": [
       "<div>\n",
       "<style scoped>\n",
       "    .dataframe tbody tr th:only-of-type {\n",
       "        vertical-align: middle;\n",
       "    }\n",
       "\n",
       "    .dataframe tbody tr th {\n",
       "        vertical-align: top;\n",
       "    }\n",
       "\n",
       "    .dataframe thead th {\n",
       "        text-align: right;\n",
       "    }\n",
       "</style>\n",
       "<table border=\"1\" class=\"dataframe\">\n",
       "  <thead>\n",
       "    <tr style=\"text-align: right;\">\n",
       "      <th></th>\n",
       "      <th>feature1</th>\n",
       "      <th>feature2</th>\n",
       "    </tr>\n",
       "  </thead>\n",
       "  <tbody>\n",
       "    <tr>\n",
       "      <th>0</th>\n",
       "      <td>3.3816</td>\n",
       "      <td>-1.613706</td>\n",
       "    </tr>\n",
       "    <tr>\n",
       "      <th>1</th>\n",
       "      <td>4.5279</td>\n",
       "      <td>0.851394</td>\n",
       "    </tr>\n",
       "    <tr>\n",
       "      <th>2</th>\n",
       "      <td>2.6557</td>\n",
       "      <td>-0.590806</td>\n",
       "    </tr>\n",
       "    <tr>\n",
       "      <th>3</th>\n",
       "      <td>2.7652</td>\n",
       "      <td>-1.287406</td>\n",
       "    </tr>\n",
       "    <tr>\n",
       "      <th>4</th>\n",
       "      <td>2.8466</td>\n",
       "      <td>-0.827306</td>\n",
       "    </tr>\n",
       "  </tbody>\n",
       "</table>\n",
       "</div>"
      ],
      "text/plain": [
       "   feature1  feature2\n",
       "0    3.3816 -1.613706\n",
       "1    4.5279  0.851394\n",
       "2    2.6557 -0.590806\n",
       "3    2.7652 -1.287406\n",
       "4    2.8466 -0.827306"
      ]
     },
     "execution_count": 19,
     "metadata": {},
     "output_type": "execute_result"
    }
   ],
   "source": [
    "#Subtract the original values by the by calculated\n",
    "new_df = df.copy()\n",
    "new_df['feature2']=new_df['feature2']-mean\n",
    "new_df.head()"
   ]
  }
 ],
 "metadata": {
  "kernelspec": {
   "display_name": "Python 3 (ipykernel)",
   "language": "python",
   "name": "python3"
  },
  "language_info": {
   "codemirror_mode": {
    "name": "ipython",
    "version": 3
   },
   "file_extension": ".py",
   "mimetype": "text/x-python",
   "name": "python",
   "nbconvert_exporter": "python",
   "pygments_lexer": "ipython3",
   "version": "3.10.1"
  }
 },
 "nbformat": 4,
 "nbformat_minor": 5
}
