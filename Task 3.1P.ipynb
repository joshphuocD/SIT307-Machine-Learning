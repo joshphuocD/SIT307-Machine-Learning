{
 "cells": [
  {
   "cell_type": "code",
   "execution_count": 1,
   "id": "a7ca64a5",
   "metadata": {},
   "outputs": [],
   "source": [
    "import pandas as pd\n",
    "import numpy as np\n",
    "import matplotlib.pyplot as plt\n",
    "import seaborn as sns\n",
    "import warnings; warnings.simplefilter('ignore')"
   ]
  },
  {
   "cell_type": "markdown",
   "id": "68243ad2",
   "metadata": {},
   "source": [
    "* **1.Load data from digitData2.csv\" file. The last column of each file presents the label and rest of the columns are features.**"
   ]
  },
  {
   "cell_type": "code",
   "execution_count": 2,
   "id": "0f09011b",
   "metadata": {},
   "outputs": [],
   "source": [
    "df = pd.read_csv('digitData2.csv')"
   ]
  },
  {
   "cell_type": "code",
   "execution_count": 3,
   "id": "95ae1781",
   "metadata": {},
   "outputs": [
    {
     "data": {
      "text/html": [
       "<div>\n",
       "<style scoped>\n",
       "    .dataframe tbody tr th:only-of-type {\n",
       "        vertical-align: middle;\n",
       "    }\n",
       "\n",
       "    .dataframe tbody tr th {\n",
       "        vertical-align: top;\n",
       "    }\n",
       "\n",
       "    .dataframe thead th {\n",
       "        text-align: right;\n",
       "    }\n",
       "</style>\n",
       "<table border=\"1\" class=\"dataframe\">\n",
       "  <thead>\n",
       "    <tr style=\"text-align: right;\">\n",
       "      <th></th>\n",
       "      <th>0.000000000000000000e+00</th>\n",
       "      <th>0.000000000000000000e+00.1</th>\n",
       "      <th>5.000000000000000000e+00</th>\n",
       "      <th>1.300000000000000000e+01</th>\n",
       "      <th>9.000000000000000000e+00</th>\n",
       "      <th>1.000000000000000000e+00</th>\n",
       "      <th>0.000000000000000000e+00.2</th>\n",
       "      <th>0.000000000000000000e+00.3</th>\n",
       "      <th>0.000000000000000000e+00.4</th>\n",
       "      <th>0.000000000000000000e+00.5</th>\n",
       "      <th>...</th>\n",
       "      <th>0.000000000000000000e+00.23</th>\n",
       "      <th>0.000000000000000000e+00.24</th>\n",
       "      <th>0.000000000000000000e+00.25</th>\n",
       "      <th>6.000000000000000000e+00</th>\n",
       "      <th>1.300000000000000000e+01.2</th>\n",
       "      <th>1.000000000000000000e+01.2</th>\n",
       "      <th>0.000000000000000000e+00.26</th>\n",
       "      <th>0.000000000000000000e+00.27</th>\n",
       "      <th>0.000000000000000000e+00.28</th>\n",
       "      <th>0.000000000000000000e+00.29</th>\n",
       "    </tr>\n",
       "  </thead>\n",
       "  <tbody>\n",
       "    <tr>\n",
       "      <th>0</th>\n",
       "      <td>0.0</td>\n",
       "      <td>0.0</td>\n",
       "      <td>0.0</td>\n",
       "      <td>12.0</td>\n",
       "      <td>13.0</td>\n",
       "      <td>5.0</td>\n",
       "      <td>0.0</td>\n",
       "      <td>0.0</td>\n",
       "      <td>0.0</td>\n",
       "      <td>0.0</td>\n",
       "      <td>...</td>\n",
       "      <td>0.0</td>\n",
       "      <td>0.0</td>\n",
       "      <td>0.0</td>\n",
       "      <td>0.0</td>\n",
       "      <td>11.0</td>\n",
       "      <td>16.0</td>\n",
       "      <td>10.0</td>\n",
       "      <td>0.0</td>\n",
       "      <td>0.0</td>\n",
       "      <td>1.0</td>\n",
       "    </tr>\n",
       "    <tr>\n",
       "      <th>1</th>\n",
       "      <td>0.0</td>\n",
       "      <td>0.0</td>\n",
       "      <td>0.0</td>\n",
       "      <td>4.0</td>\n",
       "      <td>15.0</td>\n",
       "      <td>12.0</td>\n",
       "      <td>0.0</td>\n",
       "      <td>0.0</td>\n",
       "      <td>0.0</td>\n",
       "      <td>0.0</td>\n",
       "      <td>...</td>\n",
       "      <td>0.0</td>\n",
       "      <td>0.0</td>\n",
       "      <td>0.0</td>\n",
       "      <td>0.0</td>\n",
       "      <td>3.0</td>\n",
       "      <td>11.0</td>\n",
       "      <td>16.0</td>\n",
       "      <td>9.0</td>\n",
       "      <td>0.0</td>\n",
       "      <td>2.0</td>\n",
       "    </tr>\n",
       "    <tr>\n",
       "      <th>2</th>\n",
       "      <td>0.0</td>\n",
       "      <td>0.0</td>\n",
       "      <td>7.0</td>\n",
       "      <td>15.0</td>\n",
       "      <td>13.0</td>\n",
       "      <td>1.0</td>\n",
       "      <td>0.0</td>\n",
       "      <td>0.0</td>\n",
       "      <td>0.0</td>\n",
       "      <td>8.0</td>\n",
       "      <td>...</td>\n",
       "      <td>0.0</td>\n",
       "      <td>0.0</td>\n",
       "      <td>0.0</td>\n",
       "      <td>7.0</td>\n",
       "      <td>13.0</td>\n",
       "      <td>13.0</td>\n",
       "      <td>9.0</td>\n",
       "      <td>0.0</td>\n",
       "      <td>0.0</td>\n",
       "      <td>3.0</td>\n",
       "    </tr>\n",
       "    <tr>\n",
       "      <th>3</th>\n",
       "      <td>0.0</td>\n",
       "      <td>0.0</td>\n",
       "      <td>0.0</td>\n",
       "      <td>1.0</td>\n",
       "      <td>11.0</td>\n",
       "      <td>0.0</td>\n",
       "      <td>0.0</td>\n",
       "      <td>0.0</td>\n",
       "      <td>0.0</td>\n",
       "      <td>0.0</td>\n",
       "      <td>...</td>\n",
       "      <td>0.0</td>\n",
       "      <td>0.0</td>\n",
       "      <td>0.0</td>\n",
       "      <td>0.0</td>\n",
       "      <td>2.0</td>\n",
       "      <td>16.0</td>\n",
       "      <td>4.0</td>\n",
       "      <td>0.0</td>\n",
       "      <td>0.0</td>\n",
       "      <td>4.0</td>\n",
       "    </tr>\n",
       "    <tr>\n",
       "      <th>4</th>\n",
       "      <td>0.0</td>\n",
       "      <td>0.0</td>\n",
       "      <td>12.0</td>\n",
       "      <td>10.0</td>\n",
       "      <td>0.0</td>\n",
       "      <td>0.0</td>\n",
       "      <td>0.0</td>\n",
       "      <td>0.0</td>\n",
       "      <td>0.0</td>\n",
       "      <td>0.0</td>\n",
       "      <td>...</td>\n",
       "      <td>0.0</td>\n",
       "      <td>0.0</td>\n",
       "      <td>0.0</td>\n",
       "      <td>9.0</td>\n",
       "      <td>16.0</td>\n",
       "      <td>16.0</td>\n",
       "      <td>10.0</td>\n",
       "      <td>0.0</td>\n",
       "      <td>0.0</td>\n",
       "      <td>5.0</td>\n",
       "    </tr>\n",
       "  </tbody>\n",
       "</table>\n",
       "<p>5 rows × 65 columns</p>\n",
       "</div>"
      ],
      "text/plain": [
       "   0.000000000000000000e+00  0.000000000000000000e+00.1  \\\n",
       "0                       0.0                         0.0   \n",
       "1                       0.0                         0.0   \n",
       "2                       0.0                         0.0   \n",
       "3                       0.0                         0.0   \n",
       "4                       0.0                         0.0   \n",
       "\n",
       "   5.000000000000000000e+00  1.300000000000000000e+01  \\\n",
       "0                       0.0                      12.0   \n",
       "1                       0.0                       4.0   \n",
       "2                       7.0                      15.0   \n",
       "3                       0.0                       1.0   \n",
       "4                      12.0                      10.0   \n",
       "\n",
       "   9.000000000000000000e+00  1.000000000000000000e+00  \\\n",
       "0                      13.0                       5.0   \n",
       "1                      15.0                      12.0   \n",
       "2                      13.0                       1.0   \n",
       "3                      11.0                       0.0   \n",
       "4                       0.0                       0.0   \n",
       "\n",
       "   0.000000000000000000e+00.2  0.000000000000000000e+00.3  \\\n",
       "0                         0.0                         0.0   \n",
       "1                         0.0                         0.0   \n",
       "2                         0.0                         0.0   \n",
       "3                         0.0                         0.0   \n",
       "4                         0.0                         0.0   \n",
       "\n",
       "   0.000000000000000000e+00.4  0.000000000000000000e+00.5  ...  \\\n",
       "0                         0.0                         0.0  ...   \n",
       "1                         0.0                         0.0  ...   \n",
       "2                         0.0                         8.0  ...   \n",
       "3                         0.0                         0.0  ...   \n",
       "4                         0.0                         0.0  ...   \n",
       "\n",
       "   0.000000000000000000e+00.23  0.000000000000000000e+00.24  \\\n",
       "0                          0.0                          0.0   \n",
       "1                          0.0                          0.0   \n",
       "2                          0.0                          0.0   \n",
       "3                          0.0                          0.0   \n",
       "4                          0.0                          0.0   \n",
       "\n",
       "   0.000000000000000000e+00.25  6.000000000000000000e+00  \\\n",
       "0                          0.0                       0.0   \n",
       "1                          0.0                       0.0   \n",
       "2                          0.0                       7.0   \n",
       "3                          0.0                       0.0   \n",
       "4                          0.0                       9.0   \n",
       "\n",
       "   1.300000000000000000e+01.2  1.000000000000000000e+01.2  \\\n",
       "0                        11.0                        16.0   \n",
       "1                         3.0                        11.0   \n",
       "2                        13.0                        13.0   \n",
       "3                         2.0                        16.0   \n",
       "4                        16.0                        16.0   \n",
       "\n",
       "   0.000000000000000000e+00.26  0.000000000000000000e+00.27  \\\n",
       "0                         10.0                          0.0   \n",
       "1                         16.0                          9.0   \n",
       "2                          9.0                          0.0   \n",
       "3                          4.0                          0.0   \n",
       "4                         10.0                          0.0   \n",
       "\n",
       "   0.000000000000000000e+00.28  0.000000000000000000e+00.29  \n",
       "0                          0.0                          1.0  \n",
       "1                          0.0                          2.0  \n",
       "2                          0.0                          3.0  \n",
       "3                          0.0                          4.0  \n",
       "4                          0.0                          5.0  \n",
       "\n",
       "[5 rows x 65 columns]"
      ]
     },
     "execution_count": 3,
     "metadata": {},
     "output_type": "execute_result"
    }
   ],
   "source": [
    "df.head()"
   ]
  },
  {
   "cell_type": "markdown",
   "id": "143789c3",
   "metadata": {},
   "source": [
    "* **2.Selecting the optimum k value using Silhouette Coefficient and plot the optimum k values.**"
   ]
  },
  {
   "cell_type": "code",
   "execution_count": 4,
   "id": "c29d2fe3",
   "metadata": {},
   "outputs": [],
   "source": [
    "from sklearn.cluster import KMeans\n",
    "from sklearn.metrics import silhouette_score\n",
    "from sklearn.preprocessing import MinMaxScaler"
   ]
  },
  {
   "cell_type": "code",
   "execution_count": 5,
   "id": "542b2c99",
   "metadata": {},
   "outputs": [],
   "source": [
    "#Standardize the dataset\n",
    "scaler = MinMaxScaler()\n",
    "scaler.fit(df)\n",
    "df_transformed = pd.DataFrame(scaler.transform(df))\n",
    "\n",
    "#Extract the features and labels from the dataset\n",
    "features = df_transformed.iloc[:,:-1]\n",
    "labels = df.iloc[:,-1]"
   ]
  },
  {
   "cell_type": "code",
   "execution_count": 6,
   "id": "d96b01dc",
   "metadata": {},
   "outputs": [
    {
     "data": {
      "image/png": "[encoded data removed]",
      "text/plain": [
       "<Figure size 432x288 with 1 Axes>"
      ]
     },
     "metadata": {
      "needs_background": "light"
     },
     "output_type": "display_data"
    }
   ],
   "source": [
    "#Choosing a range of cluster from 2 to 30\n",
    "clusters = np.arange(2, 30)\n",
    "silhouette = []\n",
    "\n",
    "#Getting the silhoutte score for each value of K\n",
    "for cluster in clusters :\n",
    "    model = KMeans(n_clusters=cluster)\n",
    "    model.fit(features, labels)\n",
    "    label = model.labels_\n",
    "    silhouette.append(silhouette_score(features, label))\n",
    "    \n",
    "#Plot the silhoutte scores    \n",
    "plt.plot(clusters,silhouette,'bx-')\n",
    "plt.xlabel('K Cluster') \n",
    "plt.ylabel('Silhouette Score') \n",
    "plt.show()"
   ]
  },
  {
   "cell_type": "markdown",
   "id": "e88a7e91",
   "metadata": {},
   "source": [
    "With K = 9, silhoutte has the highest score."
   ]
  },
  {
   "cell_type": "markdown",
   "id": "66e9668d",
   "metadata": {},
   "source": [
    "* **3.Create clusters using Kmeans and Kmeans++ algorithms with optimal k value found in the previous problem. Report performances using appropriate evaluation metrics. Compare the results.**"
   ]
  },
  {
   "cell_type": "code",
   "execution_count": 7,
   "id": "ae707041",
   "metadata": {},
   "outputs": [
    {
     "name": "stdout",
     "output_type": "stream",
     "text": [
      "KMean Shilhoutte Score:  0.19387825582225313\n"
     ]
    }
   ],
   "source": [
    "#Build cluster using Kmeans with K = 9\n",
    "\n",
    "km_model = KMeans(n_clusters=9)\n",
    "km_model.fit(features, labels)\n",
    "km_predict = km_model.predict(features)\n",
    "print('KMean Shilhoutte Score: ', silhouette_score(features, km_model.labels_))\n"
   ]
  },
  {
   "cell_type": "code",
   "execution_count": 8,
   "id": "09d56688",
   "metadata": {},
   "outputs": [
    {
     "name": "stdout",
     "output_type": "stream",
     "text": [
      "KMean++ Silhoutte Score:  0.19381962565839583\n"
     ]
    }
   ],
   "source": [
    "#Build cluster using Kmeans++with K = 9\n",
    "\n",
    "kmpp_model = KMeans(n_clusters=9, init='k-means++')\n",
    "kmpp_model.fit(features, labels)\n",
    "kmpp_predict = kmpp_model.predict(features)\n",
    "\n",
    "print('KMean++ Silhoutte Score: ', silhouette_score(features, kmpp_model.labels_))"
   ]
  },
  {
   "cell_type": "markdown",
   "id": "97b1ce8e",
   "metadata": {},
   "source": [
    "As we can see that the shilhouette score for both KMeans and KMeans++ are pretty the same. Let's look at other scores:"
   ]
  },
  {
   "cell_type": "code",
   "execution_count": 9,
   "id": "3af26b7a",
   "metadata": {},
   "outputs": [
    {
     "name": "stdout",
     "output_type": "stream",
     "text": [
      "Purity_score of KMeans Model: 0.738\n",
      "Purity_score of KMeans++ Model: 0.738\n"
     ]
    }
   ],
   "source": [
    "from sklearn import metrics\n",
    "\n",
    "#Purity Score function get from the Unit Website\n",
    "def purity_score(y_true, y_pred):\n",
    "    # compute contingency matrix (also called confusion matrix)\n",
    "    contingency_matrix = metrics.cluster.contingency_matrix(y_true, y_pred)\n",
    "    # return purity\n",
    "    return np.sum(np.amax(contingency_matrix, axis=0)) / np.sum(contingency_matrix)\n",
    "\n",
    "print(\"Purity_score of KMeans Model: %0.3f\" % purity_score(labels, km_predict))\n",
    "print(\"Purity_score of KMeans++ Model: %0.3f\" % purity_score(labels, kmpp_predict))"
   ]
  },
  {
   "cell_type": "markdown",
   "id": "75094fc2",
   "metadata": {},
   "source": [
    "Purity scores of both KMeans and Kmeans++ are pretty the same"
   ]
  },
  {
   "cell_type": "markdown",
   "id": "006053a5",
   "metadata": {},
   "source": [
    "* **4.Now repeat clustering using Kmeans for 50 times and report the average performance. Again compare the results that you have obtained in Q3 using Kmeans++ and explain the difference (if any).**"
   ]
  },
  {
   "cell_type": "code",
   "execution_count": 24,
   "id": "ad2e5c5f",
   "metadata": {},
   "outputs": [
    {
     "name": "stdout",
     "output_type": "stream",
     "text": [
      "KMeans Silhouette average score:  0.19383563808618515\n"
     ]
    }
   ],
   "source": [
    "km_silhouette = []\n",
    "for i in range (50):\n",
    "    km_model = KMeans(n_clusters=9)\n",
    "    km_model.fit(features, labels)\n",
    "    label = km_model.labels_\n",
    "    km_silhouette.append(silhouette_score(features, label))\n",
    "    \n",
    "print('KMeans Silhouette average score: ', sum(km_silhouette)/50)"
   ]
  },
  {
   "cell_type": "code",
   "execution_count": 27,
   "id": "946ce449",
   "metadata": {},
   "outputs": [
    {
     "name": "stdout",
     "output_type": "stream",
     "text": [
      "KMeans++ Silhouette average score:  0.19383393581243893\n"
     ]
    }
   ],
   "source": [
    "kmpp_silhouette = []\n",
    "for i in range (50):\n",
    "    kmpp_model = KMeans(n_clusters=9, init='k-means++')\n",
    "    kmpp_model.fit(features,labels )\n",
    "    label = kmpp_model.labels_\n",
    "    kmpp_silhouette.append(silhouette_score(features, label))\n",
    "\n",
    "print('KMeans++ Silhouette average score: ' ,sum(kmpp_silhouette)/50)"
   ]
  },
  {
   "cell_type": "markdown",
   "id": "3594111c",
   "metadata": {},
   "source": [
    "KMeans++ silhouette scores are still pretty the same. There is no big difference between the 2 of them."
   ]
  }
 ],
 "metadata": {
  "kernelspec": {
   "display_name": "Python 3 (ipykernel)",
   "language": "python",
   "name": "python3"
  },
  "language_info": {
   "codemirror_mode": {
    "name": "ipython",
    "version": 3
   },
   "file_extension": ".py",
   "mimetype": "text/x-python",
   "name": "python",
   "nbconvert_exporter": "python",
   "pygments_lexer": "ipython3",
   "version": "3.10.1"
  }
 },
 "nbformat": 4,
 "nbformat_minor": 5
}
